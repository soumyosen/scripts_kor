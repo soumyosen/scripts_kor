{
 "cells": [
  {
   "cell_type": "code",
   "execution_count": 1,
   "metadata": {},
   "outputs": [],
   "source": [
    "import numpy as np\n",
    "import pandas as pd\n",
    "import matplotlib.pyplot as plt\n",
    "%matplotlib inline"
   ]
  },
  {
   "cell_type": "code",
   "execution_count": 2,
   "metadata": {},
   "outputs": [],
   "source": [
    "df = pd.read_csv(\"output-report.csv\", names=[\"Ligands\", \"ZINC_index\", \"Docking_score\", \"Hbond\", \"Metal\", \"vdW\", \"Coul\"])"
   ]
  },
  {
   "cell_type": "code",
   "execution_count": 3,
   "metadata": {},
   "outputs": [
    {
     "data": {
      "text/html": [
       "<div>\n",
       "<style scoped>\n",
       "    .dataframe tbody tr th:only-of-type {\n",
       "        vertical-align: middle;\n",
       "    }\n",
       "\n",
       "    .dataframe tbody tr th {\n",
       "        vertical-align: top;\n",
       "    }\n",
       "\n",
       "    .dataframe thead th {\n",
       "        text-align: right;\n",
       "    }\n",
       "</style>\n",
       "<table border=\"1\" class=\"dataframe\">\n",
       "  <thead>\n",
       "    <tr style=\"text-align: right;\">\n",
       "      <th></th>\n",
       "      <th>Ligands</th>\n",
       "      <th>ZINC_index</th>\n",
       "      <th>Docking_score</th>\n",
       "      <th>Hbond</th>\n",
       "      <th>Metal</th>\n",
       "      <th>vdW</th>\n",
       "      <th>Coul</th>\n",
       "    </tr>\n",
       "  </thead>\n",
       "  <tbody>\n",
       "    <tr>\n",
       "      <th>0</th>\n",
       "      <td>1</td>\n",
       "      <td>ZINC000013543740</td>\n",
       "      <td>-9.15</td>\n",
       "      <td>-1.7</td>\n",
       "      <td>-0.0</td>\n",
       "      <td>-31.7</td>\n",
       "      <td>-22.7</td>\n",
       "    </tr>\n",
       "    <tr>\n",
       "      <th>1</th>\n",
       "      <td>2</td>\n",
       "      <td>ZINC000013543740</td>\n",
       "      <td>-9.06</td>\n",
       "      <td>-1.7</td>\n",
       "      <td>-0.0</td>\n",
       "      <td>-31.6</td>\n",
       "      <td>-22.1</td>\n",
       "    </tr>\n",
       "    <tr>\n",
       "      <th>2</th>\n",
       "      <td>3</td>\n",
       "      <td>ZINC000257316572</td>\n",
       "      <td>-9.04</td>\n",
       "      <td>-0.3</td>\n",
       "      <td>-0.0</td>\n",
       "      <td>-43.0</td>\n",
       "      <td>-4.4</td>\n",
       "    </tr>\n",
       "    <tr>\n",
       "      <th>3</th>\n",
       "      <td>4</td>\n",
       "      <td>ZINC000048342660</td>\n",
       "      <td>-8.69</td>\n",
       "      <td>-0.3</td>\n",
       "      <td>-0.0</td>\n",
       "      <td>-40.1</td>\n",
       "      <td>-4.6</td>\n",
       "    </tr>\n",
       "    <tr>\n",
       "      <th>4</th>\n",
       "      <td>5</td>\n",
       "      <td>ZINC000071829721</td>\n",
       "      <td>-8.65</td>\n",
       "      <td>-0.3</td>\n",
       "      <td>-0.0</td>\n",
       "      <td>-31.4</td>\n",
       "      <td>-4.3</td>\n",
       "    </tr>\n",
       "  </tbody>\n",
       "</table>\n",
       "</div>"
      ],
      "text/plain": [
       "   Ligands        ZINC_index  Docking_score  Hbond  Metal   vdW  Coul\n",
       "0        1  ZINC000013543740          -9.15   -1.7   -0.0 -31.7 -22.7\n",
       "1        2  ZINC000013543740          -9.06   -1.7   -0.0 -31.6 -22.1\n",
       "2        3  ZINC000257316572          -9.04   -0.3   -0.0 -43.0  -4.4\n",
       "3        4  ZINC000048342660          -8.69   -0.3   -0.0 -40.1  -4.6\n",
       "4        5  ZINC000071829721          -8.65   -0.3   -0.0 -31.4  -4.3"
      ]
     },
     "execution_count": 3,
     "metadata": {},
     "output_type": "execute_result"
    }
   ],
   "source": [
    "df.head()"
   ]
  },
  {
   "cell_type": "code",
   "execution_count": 4,
   "metadata": {},
   "outputs": [
    {
     "data": {
      "text/plain": [
       "count    1.505732e+07\n",
       "mean    -3.798026e+00\n",
       "std      1.079989e+00\n",
       "min     -9.150000e+00\n",
       "25%     -4.510000e+00\n",
       "50%     -3.920000e+00\n",
       "75%     -3.180000e+00\n",
       "max      1.033000e+01\n",
       "Name: Docking_score, dtype: float64"
      ]
     },
     "execution_count": 4,
     "metadata": {},
     "output_type": "execute_result"
    }
   ],
   "source": [
    "df[\"Docking_score\"].describe()"
   ]
  },
  {
   "cell_type": "code",
   "execution_count": 5,
   "metadata": {},
   "outputs": [
    {
     "data": {
      "text/plain": [
       "8057302"
      ]
     },
     "execution_count": 5,
     "metadata": {},
     "output_type": "execute_result"
    }
   ],
   "source": [
    "len(df[\"ZINC_index\"].unique())"
   ]
  },
  {
   "cell_type": "code",
   "execution_count": 6,
   "metadata": {},
   "outputs": [
    {
     "data": {
      "text/plain": [
       "(array([-2000000.,        0.,  2000000.,  4000000.,  6000000.,  8000000.,\n",
       "        10000000., 12000000., 14000000., 16000000.]),\n",
       " [Text(0, 0, ''),\n",
       "  Text(0, 0, ''),\n",
       "  Text(0, 0, ''),\n",
       "  Text(0, 0, ''),\n",
       "  Text(0, 0, ''),\n",
       "  Text(0, 0, ''),\n",
       "  Text(0, 0, ''),\n",
       "  Text(0, 0, ''),\n",
       "  Text(0, 0, ''),\n",
       "  Text(0, 0, '')])"
      ]
     },
     "execution_count": 6,
     "metadata": {},
     "output_type": "execute_result"
    },
    {
     "data": {
      "image/png": "[encoded data removed]",
      "text/plain": [
       "<Figure size 432x288 with 1 Axes>"
      ]
     },
     "metadata": {
      "needs_background": "light"
     },
     "output_type": "display_data"
    }
   ],
   "source": [
    "plt.plot(df[\"Ligands\"], df[\"Docking_score\"])\n",
    "plt.ylabel(\"Docking Score\", fontsize=16)\n",
    "plt.xlabel(\"Ligands\", fontsize=16)\n",
    "plt.yticks(fontsize=14)\n",
    "plt.xticks(fontsize=14)"
   ]
  },
  {
   "cell_type": "code",
   "execution_count": 8,
   "metadata": {},
   "outputs": [
    {
     "name": "stdout",
     "output_type": "stream",
     "text": [
      "<class 'pandas.core.frame.DataFrame'>\n",
      "Int64Index: 2501 entries, 0 to 2500\n",
      "Data columns (total 7 columns):\n",
      " #   Column         Non-Null Count  Dtype  \n",
      "---  ------         --------------  -----  \n",
      " 0   Ligands        2501 non-null   int64  \n",
      " 1   ZINC_index     2501 non-null   object \n",
      " 2   Docking_score  2501 non-null   float64\n",
      " 3   Hbond          2501 non-null   float64\n",
      " 4   Metal          2501 non-null   float64\n",
      " 5   vdW            2501 non-null   float64\n",
      " 6   Coul           2501 non-null   float64\n",
      "dtypes: float64(5), int64(1), object(1)\n",
      "memory usage: 156.3+ KB\n"
     ]
    }
   ],
   "source": [
    "df1.info()"
   ]
  },
  {
   "cell_type": "code",
   "execution_count": 9,
   "metadata": {},
   "outputs": [
    {
     "data": {
      "text/plain": [
       "2312"
      ]
     },
     "execution_count": 9,
     "metadata": {},
     "output_type": "execute_result"
    }
   ],
   "source": [
    "len(df1[\"ZINC_index\"].unique())"
   ]
  },
  {
   "cell_type": "code",
   "execution_count": null,
   "metadata": {},
   "outputs": [],
   "source": [
    "df1 = df[df[\"Docking_score\"]<=-7.5]"
   ]
  },
  {
   "cell_type": "code",
   "execution_count": 10,
   "metadata": {
    "scrolled": true
   },
   "outputs": [
    {
     "name": "stdout",
     "output_type": "stream",
     "text": [
      "<class 'pandas.core.frame.DataFrame'>\n",
      "Int64Index: 74631 entries, 0 to 74630\n",
      "Data columns (total 7 columns):\n",
      " #   Column         Non-Null Count  Dtype  \n",
      "---  ------         --------------  -----  \n",
      " 0   Ligands        74631 non-null  int64  \n",
      " 1   ZINC_index     74631 non-null  object \n",
      " 2   Docking_score  74631 non-null  float64\n",
      " 3   Hbond          74631 non-null  float64\n",
      " 4   Metal          74631 non-null  float64\n",
      " 5   vdW            74631 non-null  float64\n",
      " 6   Coul           74631 non-null  float64\n",
      "dtypes: float64(5), int64(1), object(1)\n",
      "memory usage: 4.6+ MB\n"
     ]
    }
   ],
   "source": [
    "df2 = df[df[\"Docking_score\"]<=-6.5]\n",
    "df2.info()"
   ]
  },
  {
   "cell_type": "code",
   "execution_count": 11,
   "metadata": {},
   "outputs": [
    {
     "data": {
      "text/plain": [
       "67968"
      ]
     },
     "execution_count": 11,
     "metadata": {},
     "output_type": "execute_result"
    }
   ],
   "source": [
    "len(df2[\"ZINC_index\"].unique())"
   ]
  },
  {
   "cell_type": "code",
   "execution_count": 14,
   "metadata": {},
   "outputs": [
    {
     "name": "stdout",
     "output_type": "stream",
     "text": [
      "<class 'pandas.core.frame.DataFrame'>\n",
      "Int64Index: 17185 entries, 0 to 17184\n",
      "Data columns (total 7 columns):\n",
      " #   Column         Non-Null Count  Dtype  \n",
      "---  ------         --------------  -----  \n",
      " 0   Ligands        17185 non-null  int64  \n",
      " 1   ZINC_index     17185 non-null  object \n",
      " 2   Docking_score  17185 non-null  float64\n",
      " 3   Hbond          17185 non-null  float64\n",
      " 4   Metal          17185 non-null  float64\n",
      " 5   vdW            17185 non-null  float64\n",
      " 6   Coul           17185 non-null  float64\n",
      "dtypes: float64(5), int64(1), object(1)\n",
      "memory usage: 1.0+ MB\n"
     ]
    }
   ],
   "source": [
    "df4 = df[df[\"Docking_score\"]<=-7.0]\n",
    "df4.info()"
   ]
  },
  {
   "cell_type": "code",
   "execution_count": 15,
   "metadata": {},
   "outputs": [
    {
     "data": {
      "text/plain": [
       "15898"
      ]
     },
     "execution_count": 15,
     "metadata": {},
     "output_type": "execute_result"
    }
   ],
   "source": [
    "len(df4[\"ZINC_index\"].unique())"
   ]
  },
  {
   "cell_type": "code",
   "execution_count": 12,
   "metadata": {
    "scrolled": true
   },
   "outputs": [
    {
     "name": "stdout",
     "output_type": "stream",
     "text": [
      "<class 'pandas.core.frame.DataFrame'>\n",
      "Int64Index: 219860 entries, 0 to 219859\n",
      "Data columns (total 7 columns):\n",
      " #   Column         Non-Null Count   Dtype  \n",
      "---  ------         --------------   -----  \n",
      " 0   Ligands        219860 non-null  int64  \n",
      " 1   ZINC_index     219860 non-null  object \n",
      " 2   Docking_score  219860 non-null  float64\n",
      " 3   Hbond          219860 non-null  float64\n",
      " 4   Metal          219860 non-null  float64\n",
      " 5   vdW            219860 non-null  float64\n",
      " 6   Coul           219860 non-null  float64\n",
      "dtypes: float64(5), int64(1), object(1)\n",
      "memory usage: 13.4+ MB\n"
     ]
    }
   ],
   "source": [
    "df3 = df[df[\"Docking_score\"]<=-6.0]\n",
    "df3.info()"
   ]
  },
  {
   "cell_type": "code",
   "execution_count": 14,
   "metadata": {},
   "outputs": [
    {
     "data": {
      "text/plain": [
       "count    1.424486e+07\n",
       "mean    -1.573446e-01\n",
       "std      1.621092e-01\n",
       "min     -2.000000e+00\n",
       "25%     -3.000000e-01\n",
       "50%     -2.000000e-01\n",
       "75%      0.000000e+00\n",
       "max     -0.000000e+00\n",
       "Name: Hbond, dtype: float64"
      ]
     },
     "execution_count": 14,
     "metadata": {},
     "output_type": "execute_result"
    }
   ],
   "source": [
    "df[\"Hbond\"].describe()"
   ]
  },
  {
   "cell_type": "code",
   "execution_count": 15,
   "metadata": {},
   "outputs": [
    {
     "data": {
      "text/plain": [
       "count    15064629.0\n",
       "mean            0.0\n",
       "std             0.0\n",
       "min            -0.0\n",
       "25%            -0.0\n",
       "50%            -0.0\n",
       "75%            -0.0\n",
       "max            -0.0\n",
       "Name: Metal, dtype: float64"
      ]
     },
     "execution_count": 15,
     "metadata": {},
     "output_type": "execute_result"
    }
   ],
   "source": [
    "df[\"Metal\"].describe()"
   ]
  },
  {
   "cell_type": "code",
   "execution_count": 16,
   "metadata": {},
   "outputs": [],
   "source": [
    "df[\"coul+vdw\"]=df[\"Coul\"]+df[\"vdW\"]"
   ]
  },
  {
   "cell_type": "code",
   "execution_count": 17,
   "metadata": {},
   "outputs": [
    {
     "data": {
      "text/html": [
       "<div>\n",
       "<style scoped>\n",
       "    .dataframe tbody tr th:only-of-type {\n",
       "        vertical-align: middle;\n",
       "    }\n",
       "\n",
       "    .dataframe tbody tr th {\n",
       "        vertical-align: top;\n",
       "    }\n",
       "\n",
       "    .dataframe thead th {\n",
       "        text-align: right;\n",
       "    }\n",
       "</style>\n",
       "<table border=\"1\" class=\"dataframe\">\n",
       "  <thead>\n",
       "    <tr style=\"text-align: right;\">\n",
       "      <th></th>\n",
       "      <th>Ligands</th>\n",
       "      <th>ZINC_index</th>\n",
       "      <th>Docking_score</th>\n",
       "      <th>Hbond</th>\n",
       "      <th>Metal</th>\n",
       "      <th>vdW</th>\n",
       "      <th>Coul</th>\n",
       "      <th>coul+vdw</th>\n",
       "    </tr>\n",
       "  </thead>\n",
       "  <tbody>\n",
       "    <tr>\n",
       "      <th>0</th>\n",
       "      <td>1</td>\n",
       "      <td>ZINC000239309552</td>\n",
       "      <td>-10.46</td>\n",
       "      <td>-1.3</td>\n",
       "      <td>-0.0</td>\n",
       "      <td>-65.7</td>\n",
       "      <td>-24.1</td>\n",
       "      <td>-89.8</td>\n",
       "    </tr>\n",
       "    <tr>\n",
       "      <th>1</th>\n",
       "      <td>2</td>\n",
       "      <td>ZINC000101354365</td>\n",
       "      <td>-10.32</td>\n",
       "      <td>-0.3</td>\n",
       "      <td>-0.0</td>\n",
       "      <td>-57.1</td>\n",
       "      <td>-6.2</td>\n",
       "      <td>-63.3</td>\n",
       "    </tr>\n",
       "    <tr>\n",
       "      <th>2</th>\n",
       "      <td>3</td>\n",
       "      <td>ZINC000038211800</td>\n",
       "      <td>-10.15</td>\n",
       "      <td>0.0</td>\n",
       "      <td>-0.0</td>\n",
       "      <td>-47.3</td>\n",
       "      <td>-13.4</td>\n",
       "      <td>-60.7</td>\n",
       "    </tr>\n",
       "    <tr>\n",
       "      <th>3</th>\n",
       "      <td>4</td>\n",
       "      <td>ZINC000038211800</td>\n",
       "      <td>-10.15</td>\n",
       "      <td>0.0</td>\n",
       "      <td>-0.0</td>\n",
       "      <td>-47.3</td>\n",
       "      <td>-13.4</td>\n",
       "      <td>-60.7</td>\n",
       "    </tr>\n",
       "    <tr>\n",
       "      <th>4</th>\n",
       "      <td>5</td>\n",
       "      <td>ZINC000239309553</td>\n",
       "      <td>-10.13</td>\n",
       "      <td>-0.8</td>\n",
       "      <td>-0.0</td>\n",
       "      <td>-67.8</td>\n",
       "      <td>-18.8</td>\n",
       "      <td>-86.6</td>\n",
       "    </tr>\n",
       "  </tbody>\n",
       "</table>\n",
       "</div>"
      ],
      "text/plain": [
       "   Ligands        ZINC_index  Docking_score  Hbond  Metal   vdW  Coul  \\\n",
       "0        1  ZINC000239309552         -10.46   -1.3   -0.0 -65.7 -24.1   \n",
       "1        2  ZINC000101354365         -10.32   -0.3   -0.0 -57.1  -6.2   \n",
       "2        3  ZINC000038211800         -10.15    0.0   -0.0 -47.3 -13.4   \n",
       "3        4  ZINC000038211800         -10.15    0.0   -0.0 -47.3 -13.4   \n",
       "4        5  ZINC000239309553         -10.13   -0.8   -0.0 -67.8 -18.8   \n",
       "\n",
       "   coul+vdw  \n",
       "0     -89.8  \n",
       "1     -63.3  \n",
       "2     -60.7  \n",
       "3     -60.7  \n",
       "4     -86.6  "
      ]
     },
     "execution_count": 17,
     "metadata": {},
     "output_type": "execute_result"
    }
   ],
   "source": [
    "df.head()"
   ]
  },
  {
   "cell_type": "code",
   "execution_count": 18,
   "metadata": {},
   "outputs": [
    {
     "data": {
      "text/plain": [
       "count    1.506463e+07\n",
       "mean    -4.325820e+01\n",
       "std      6.857343e+00\n",
       "min     -9.800000e+01\n",
       "25%     -4.790000e+01\n",
       "50%     -4.330000e+01\n",
       "75%     -3.870000e+01\n",
       "max      0.000000e+00\n",
       "Name: coul+vdw, dtype: float64"
      ]
     },
     "execution_count": 18,
     "metadata": {},
     "output_type": "execute_result"
    }
   ],
   "source": [
    "df[\"coul+vdw\"].describe()"
   ]
  },
  {
   "cell_type": "code",
   "execution_count": 19,
   "metadata": {},
   "outputs": [
    {
     "data": {
      "text/plain": [
       "count    1.506463e+07\n",
       "mean    -1.563541e-01\n",
       "std      1.616936e-01\n",
       "min     -2.000000e+00\n",
       "25%     -2.000000e-01\n",
       "50%     -2.000000e-01\n",
       "75%      0.000000e+00\n",
       "max     -0.000000e+00\n",
       "Name: Hbond, dtype: float64"
      ]
     },
     "execution_count": 19,
     "metadata": {},
     "output_type": "execute_result"
    }
   ],
   "source": [
    "df[\"Hbond\"].describe()"
   ]
  },
  {
   "cell_type": "code",
   "execution_count": null,
   "metadata": {},
   "outputs": [],
   "source": []
  }
 ],
 "metadata": {
  "kernelspec": {
   "display_name": "Python 3",
   "language": "python",
   "name": "python3"
  },
  "language_info": {
   "codemirror_mode": {
    "name": "ipython",
    "version": 3
   },
   "file_extension": ".py",
   "mimetype": "text/x-python",
   "name": "python",
   "nbconvert_exporter": "python",
   "pygments_lexer": "ipython3",
   "version": "3.8.5"
  }
 },
 "nbformat": 4,
 "nbformat_minor": 4
}
