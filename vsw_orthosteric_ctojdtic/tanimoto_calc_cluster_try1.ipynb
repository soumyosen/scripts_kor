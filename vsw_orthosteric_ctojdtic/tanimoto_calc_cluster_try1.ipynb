{
 "cells": [
  {
   "cell_type": "code",
   "execution_count": 1,
   "id": "dangerous-oakland",
   "metadata": {},
   "outputs": [],
   "source": [
    "import numpy as np\n",
    "import pandas as pd"
   ]
  },
  {
   "cell_type": "code",
   "execution_count": 2,
   "id": "excited-dubai",
   "metadata": {},
   "outputs": [],
   "source": [
    "from rdkit import Chem\n",
    "from rdkit import DataStructs\n",
    "from rdkit.Chem import AllChem\n",
    "from rdkit.Chem import Draw\n",
    "from rdkit.Chem.Draw import rdMolDraw2D"
   ]
  },
  {
   "cell_type": "code",
   "execution_count": 3,
   "id": "horizontal-auditor",
   "metadata": {},
   "outputs": [],
   "source": [
    "import matplotlib.pyplot as plt\n",
    "from scipy.cluster import hierarchy as hier\n",
    "from scipy.spatial import distance as ssd"
   ]
  },
  {
   "cell_type": "code",
   "execution_count": 5,
   "id": "emerging-sussex",
   "metadata": {},
   "outputs": [
    {
     "data": {
      "text/html": [
       "<div>\n",
       "<style scoped>\n",
       "    .dataframe tbody tr th:only-of-type {\n",
       "        vertical-align: middle;\n",
       "    }\n",
       "\n",
       "    .dataframe tbody tr th {\n",
       "        vertical-align: top;\n",
       "    }\n",
       "\n",
       "    .dataframe thead th {\n",
       "        text-align: right;\n",
       "    }\n",
       "</style>\n",
       "<table border=\"1\" class=\"dataframe\">\n",
       "  <thead>\n",
       "    <tr style=\"text-align: right;\">\n",
       "      <th></th>\n",
       "      <th>Smiles</th>\n",
       "      <th>Name</th>\n",
       "    </tr>\n",
       "  </thead>\n",
       "  <tbody>\n",
       "    <tr>\n",
       "      <th>0</th>\n",
       "      <td>c1cc[nH+]c(c12)NC([O-])=CC(=N2)c3ccccc3</td>\n",
       "      <td>ZINC000015828584</td>\n",
       "    </tr>\n",
       "    <tr>\n",
       "      <th>1</th>\n",
       "      <td>COc1ccc(cc1OC)C[N@H+](CCC[NH3+])CC[C@@]2(c3ccc...</td>\n",
       "      <td>ZINC000015162196</td>\n",
       "    </tr>\n",
       "    <tr>\n",
       "      <th>2</th>\n",
       "      <td>n1ccccc1CCC(=O)N(CCC[NH+](C)C)C[C@H]2CC[N@@H+]...</td>\n",
       "      <td>ZINC000012308844</td>\n",
       "    </tr>\n",
       "    <tr>\n",
       "      <th>3</th>\n",
       "      <td>C[NH2+]CCC[NH2+]Cc1ccc(c(c1)OC)OCc2ccc(Cl)cc2</td>\n",
       "      <td>ZINC000008377044</td>\n",
       "    </tr>\n",
       "    <tr>\n",
       "      <th>4</th>\n",
       "      <td>C[NH2+]CCC[NH2+]Cc1ccc(c(c1)OC)OCc2ccc(Cl)cc2</td>\n",
       "      <td>ZINC000008377044</td>\n",
       "    </tr>\n",
       "    <tr>\n",
       "      <th>5</th>\n",
       "      <td>COc1ccc(cc1)CC[N@@H+]2CCC[C@@H](C2)C[N@H+](C)C...</td>\n",
       "      <td>ZINC000011878175</td>\n",
       "    </tr>\n",
       "    <tr>\n",
       "      <th>6</th>\n",
       "      <td>COc1ccc(cc1)CC[N@@H+]2CCC[C@@H](C2)C[N@H+](C)C...</td>\n",
       "      <td>ZINC000011878175</td>\n",
       "    </tr>\n",
       "    <tr>\n",
       "      <th>7</th>\n",
       "      <td>C[NH+](C)CCC[NH2+]Cc(cc1OC)ccc1OCc2ccc(F)cc2</td>\n",
       "      <td>ZINC000008373857</td>\n",
       "    </tr>\n",
       "    <tr>\n",
       "      <th>8</th>\n",
       "      <td>C[NH+](C)CCC[NH2+]Cc(cc1OC)ccc1OCc2ccc(F)cc2</td>\n",
       "      <td>ZINC000008373857</td>\n",
       "    </tr>\n",
       "  </tbody>\n",
       "</table>\n",
       "</div>"
      ],
      "text/plain": [
       "                                              Smiles              Name\n",
       "0            c1cc[nH+]c(c12)NC([O-])=CC(=N2)c3ccccc3  ZINC000015828584\n",
       "1  COc1ccc(cc1OC)C[N@H+](CCC[NH3+])CC[C@@]2(c3ccc...  ZINC000015162196\n",
       "2  n1ccccc1CCC(=O)N(CCC[NH+](C)C)C[C@H]2CC[N@@H+]...  ZINC000012308844\n",
       "3      C[NH2+]CCC[NH2+]Cc1ccc(c(c1)OC)OCc2ccc(Cl)cc2  ZINC000008377044\n",
       "4      C[NH2+]CCC[NH2+]Cc1ccc(c(c1)OC)OCc2ccc(Cl)cc2  ZINC000008377044\n",
       "5  COc1ccc(cc1)CC[N@@H+]2CCC[C@@H](C2)C[N@H+](C)C...  ZINC000011878175\n",
       "6  COc1ccc(cc1)CC[N@@H+]2CCC[C@@H](C2)C[N@H+](C)C...  ZINC000011878175\n",
       "7       C[NH+](C)CCC[NH2+]Cc(cc1OC)ccc1OCc2ccc(F)cc2  ZINC000008373857\n",
       "8       C[NH+](C)CCC[NH2+]Cc(cc1OC)ccc1OCc2ccc(F)cc2  ZINC000008373857"
      ]
     },
     "execution_count": 5,
     "metadata": {},
     "output_type": "execute_result"
    }
   ],
   "source": [
    "df = pd.read_csv(\"cluster1_1st10.smi\", sep=\" \", names=[\"Smiles\", \"Name\"])\n",
    "df"
   ]
  },
  {
   "cell_type": "code",
   "execution_count": 6,
   "id": "statewide-swing",
   "metadata": {},
   "outputs": [
    {
     "data": {
      "text/plain": [
       "['c1cc[nH+]c(c12)NC([O-])=CC(=N2)c3ccccc3',\n",
       " 'COc1ccc(cc1OC)C[N@H+](CCC[NH3+])CC[C@@]2(c3ccccc3)C[C@@H](C)[N@H+](C)C[C@@H]2C',\n",
       " 'n1ccccc1CCC(=O)N(CCC[NH+](C)C)C[C@H]2CC[N@@H+](CC2)C(C3)Cc(c34)cccc4',\n",
       " 'C[NH2+]CCC[NH2+]Cc1ccc(c(c1)OC)OCc2ccc(Cl)cc2',\n",
       " 'C[NH2+]CCC[NH2+]Cc1ccc(c(c1)OC)OCc2ccc(Cl)cc2',\n",
       " 'COc1ccc(cc1)CC[N@@H+]2CCC[C@@H](C2)C[N@H+](C)Cc3cccc(c3)-n4cccn4',\n",
       " 'COc1ccc(cc1)CC[N@@H+]2CCC[C@@H](C2)C[N@H+](C)Cc3cccc(c3)-n4cccn4',\n",
       " 'C[NH+](C)CCC[NH2+]Cc(cc1OC)ccc1OCc2ccc(F)cc2',\n",
       " 'C[NH+](C)CCC[NH2+]Cc(cc1OC)ccc1OCc2ccc(F)cc2']"
      ]
     },
     "execution_count": 6,
     "metadata": {},
     "output_type": "execute_result"
    }
   ],
   "source": [
    "smiles_list = df[\"Smiles\"].tolist()\n",
    "smiles_list"
   ]
  },
  {
   "cell_type": "code",
   "execution_count": 7,
   "id": "center-cedar",
   "metadata": {},
   "outputs": [
    {
     "data": {
      "text/plain": [
       "['ZINC000015828584',\n",
       " 'ZINC000015162196',\n",
       " 'ZINC000012308844',\n",
       " 'ZINC000008377044',\n",
       " 'ZINC000008377044',\n",
       " 'ZINC000011878175',\n",
       " 'ZINC000011878175',\n",
       " 'ZINC000008373857',\n",
       " 'ZINC000008373857']"
      ]
     },
     "execution_count": 7,
     "metadata": {},
     "output_type": "execute_result"
    }
   ],
   "source": [
    "names_list = df[\"Name\"].tolist()\n",
    "names_list"
   ]
  },
  {
   "cell_type": "code",
   "execution_count": 9,
   "id": "governmental-balance",
   "metadata": {},
   "outputs": [],
   "source": [
    "mol_list = []\n",
    "fp_list = []\n",
    "for i, j in zip(names_list, smiles_list):\n",
    "    mol = Chem.MolFromSmiles(j)\n",
    "    fps = Chem.RDKFingerprint(mol)\n",
    "    mol_list.append(mol)\n",
    "    fp_list.append(fps)"
   ]
  },
  {
   "cell_type": "code",
   "execution_count": 10,
   "id": "contained-township",
   "metadata": {},
   "outputs": [
    {
     "data": {
      "text/plain": [
       "9"
      ]
     },
     "execution_count": 10,
     "metadata": {},
     "output_type": "execute_result"
    }
   ],
   "source": [
    "num_of_mol = len(fp_list)\n",
    "num_of_mol"
   ]
  },
  {
   "cell_type": "code",
   "execution_count": 11,
   "id": "intelligent-reminder",
   "metadata": {},
   "outputs": [
    {
     "data": {
      "text/plain": [
       "array([[6.90934606e-310, 6.90934606e-310, 3.18299369e-313,\n",
       "        7.90505033e-323, 2.37151510e-322, 3.24601129e-321,\n",
       "        4.66062347e-310, 4.66062348e-310, 4.66062348e-310],\n",
       "       [4.66062348e-310, 2.37151510e-322, 2.37151510e-322,\n",
       "        4.66062348e-310, 2.75859453e-313, 3.18299369e-313,\n",
       "        4.66053936e-310, 4.66062348e-310, 2.77170827e-321],\n",
       "       [4.66062347e-310, 6.90934606e-310, 4.66062348e-310,\n",
       "        4.66062348e-310, 4.66062348e-310, 1.63041663e-322,\n",
       "        4.66062348e-310, 4.66062349e-310, 3.95252517e-322],\n",
       "       [2.37151510e-322, 4.66062348e-310, 4.66062348e-310,\n",
       "        4.66062348e-310, 4.66062348e-310, 6.32404027e-322,\n",
       "        2.37151510e-322, 4.66062348e-310, 2.75859453e-313],\n",
       "       [1.69759663e-313, 4.66053936e-310, 4.66062348e-310,\n",
       "        1.90215274e-321, 4.66062347e-310, 6.90934606e-310,\n",
       "        4.66062347e-310, 4.66062347e-310, 2.37151510e-322],\n",
       "       [2.37151510e-322, 4.66062348e-310, 4.66062348e-310,\n",
       "        4.66062348e-310, 4.66062348e-310, 4.66062348e-310,\n",
       "        3.21142670e-322, 4.66062348e-310, 4.66062348e-310],\n",
       "       [1.58101007e-322, 1.58101007e-322, 4.66062348e-310,\n",
       "        1.69759663e-313, 7.90505033e-322, 2.37151510e-322,\n",
       "        4.66062348e-310, 4.66062348e-310, 4.66062348e-310],\n",
       "       [4.66062348e-310, 1.02765654e-321, 2.37151510e-322,\n",
       "        4.66062348e-310, 2.75859453e-313, 1.90979621e-313,\n",
       "        1.18575755e-322, 4.66062348e-310, 6.37344683e-322],\n",
       "       [4.66062347e-310, 6.90934606e-310, 4.66062348e-310,\n",
       "        4.66062348e-310, 2.37151510e-322, 2.37151510e-322,\n",
       "        4.66062348e-310, 2.75859453e-313, 1.90979621e-313]])"
      ]
     },
     "execution_count": 11,
     "metadata": {},
     "output_type": "execute_result"
    }
   ],
   "source": [
    "hmap = np.empty(shape=(num_of_mol, num_of_mol))\n",
    "hmap"
   ]
  },
  {
   "cell_type": "code",
   "execution_count": 12,
   "id": "advisory-mount",
   "metadata": {},
   "outputs": [
    {
     "data": {
      "text/plain": [
       "array([[1.        , 0.25396825, 0.24932493, 0.18780252, 0.18780252,\n",
       "        0.22569738, 0.22569738, 0.18983701, 0.18983701],\n",
       "       [0.25396825, 1.        , 0.33919338, 0.42283563, 0.42283563,\n",
       "        0.39609053, 0.39609053, 0.4278607 , 0.4278607 ],\n",
       "       [0.24932493, 0.33919338, 1.        , 0.19415205, 0.19415205,\n",
       "        0.34341253, 0.34341253, 0.19791667, 0.19791667],\n",
       "       [0.18780252, 0.42283563, 0.19415205, 1.        , 1.        ,\n",
       "        0.29545455, 0.29545455, 0.82845188, 0.82845188],\n",
       "       [0.18780252, 0.42283563, 0.19415205, 1.        , 1.        ,\n",
       "        0.29545455, 0.29545455, 0.82845188, 0.82845188],\n",
       "       [0.22569738, 0.39609053, 0.34341253, 0.29545455, 0.29545455,\n",
       "        1.        , 1.        , 0.30750894, 0.30750894],\n",
       "       [0.22569738, 0.39609053, 0.34341253, 0.29545455, 0.29545455,\n",
       "        1.        , 1.        , 0.30750894, 0.30750894],\n",
       "       [0.18983701, 0.4278607 , 0.19791667, 0.82845188, 0.82845188,\n",
       "        0.30750894, 0.30750894, 1.        , 1.        ],\n",
       "       [0.18983701, 0.4278607 , 0.19791667, 0.82845188, 0.82845188,\n",
       "        0.30750894, 0.30750894, 1.        , 1.        ]])"
      ]
     },
     "execution_count": 12,
     "metadata": {},
     "output_type": "execute_result"
    }
   ],
   "source": [
    "for m,fpsi in enumerate(fp_list):\n",
    "    for n,fpsj in enumerate(fp_list):\n",
    "        tc = DataStructs.TanimotoSimilarity(fpsj, fpsi)\n",
    "        hmap[m, n] = tc\n",
    "hmap"
   ]
  },
  {
   "cell_type": "code",
   "execution_count": 15,
   "id": "minus-webmaster",
   "metadata": {},
   "outputs": [
    {
     "data": {
      "text/plain": [
       "array([[0.        , 0.74603175, 0.75067507, 0.81219748, 0.81219748,\n",
       "        0.77430262, 0.77430262, 0.81016299, 0.81016299],\n",
       "       [0.74603175, 0.        , 0.66080662, 0.57716437, 0.57716437,\n",
       "        0.60390947, 0.60390947, 0.5721393 , 0.5721393 ],\n",
       "       [0.75067507, 0.66080662, 0.        , 0.80584795, 0.80584795,\n",
       "        0.65658747, 0.65658747, 0.80208333, 0.80208333],\n",
       "       [0.81219748, 0.57716437, 0.80584795, 0.        , 0.        ,\n",
       "        0.70454545, 0.70454545, 0.17154812, 0.17154812],\n",
       "       [0.81219748, 0.57716437, 0.80584795, 0.        , 0.        ,\n",
       "        0.70454545, 0.70454545, 0.17154812, 0.17154812],\n",
       "       [0.77430262, 0.60390947, 0.65658747, 0.70454545, 0.70454545,\n",
       "        0.        , 0.        , 0.69249106, 0.69249106],\n",
       "       [0.77430262, 0.60390947, 0.65658747, 0.70454545, 0.70454545,\n",
       "        0.        , 0.        , 0.69249106, 0.69249106],\n",
       "       [0.81016299, 0.5721393 , 0.80208333, 0.17154812, 0.17154812,\n",
       "        0.69249106, 0.69249106, 0.        , 0.        ],\n",
       "       [0.81016299, 0.5721393 , 0.80208333, 0.17154812, 0.17154812,\n",
       "        0.69249106, 0.69249106, 0.        , 0.        ]])"
      ]
     },
     "execution_count": 15,
     "metadata": {},
     "output_type": "execute_result"
    }
   ],
   "source": [
    "hmap1 = 1-hmap\n",
    "hmap1"
   ]
  },
  {
   "cell_type": "code",
   "execution_count": 16,
   "id": "limiting-indonesia",
   "metadata": {},
   "outputs": [
    {
     "data": {
      "text/plain": [
       "array([0.74603175, 0.75067507, 0.81219748, 0.81219748, 0.77430262,\n",
       "       0.77430262, 0.81016299, 0.81016299, 0.66080662, 0.57716437,\n",
       "       0.57716437, 0.60390947, 0.60390947, 0.5721393 , 0.5721393 ,\n",
       "       0.80584795, 0.80584795, 0.65658747, 0.65658747, 0.80208333,\n",
       "       0.80208333, 0.        , 0.70454545, 0.70454545, 0.17154812,\n",
       "       0.17154812, 0.70454545, 0.70454545, 0.17154812, 0.17154812,\n",
       "       0.        , 0.69249106, 0.69249106, 0.69249106, 0.69249106,\n",
       "       0.        ])"
      ]
     },
     "execution_count": 16,
     "metadata": {},
     "output_type": "execute_result"
    }
   ],
   "source": [
    "hmap1_array = ssd.squareform(hmap1)\n",
    "hmap1_array"
   ]
  },
  {
   "cell_type": "code",
   "execution_count": 18,
   "id": "treated-magnet",
   "metadata": {},
   "outputs": [],
   "source": [
    "from scipy.cluster.hierarchy import dendrogram, linkage, fcluster"
   ]
  },
  {
   "cell_type": "code",
   "execution_count": 19,
   "id": "powered-central",
   "metadata": {
    "scrolled": true
   },
   "outputs": [
    {
     "data": {
      "text/plain": [
       "array([[ 7.        ,  8.        ,  0.        ,  2.        ],\n",
       "       [ 3.        ,  4.        ,  0.        ,  2.        ],\n",
       "       [ 5.        ,  6.        ,  0.        ,  2.        ],\n",
       "       [ 9.        , 10.        ,  0.17154812,  4.        ],\n",
       "       [ 1.        , 12.        ,  0.5721393 ,  5.        ],\n",
       "       [11.        , 13.        ,  0.60390947,  7.        ],\n",
       "       [ 2.        , 14.        ,  0.65658747,  8.        ],\n",
       "       [ 0.        , 15.        ,  0.74603175,  9.        ]])"
      ]
     },
     "execution_count": 19,
     "metadata": {},
     "output_type": "execute_result"
    }
   ],
   "source": [
    "linked = linkage(hmap1_array, 'single')\n",
    "linked"
   ]
  },
  {
   "cell_type": "code",
   "execution_count": 20,
   "id": "surprised-truck",
   "metadata": {},
   "outputs": [
    {
     "data": {
      "text/plain": [
       "{'icoord': [[25.0, 25.0, 35.0, 35.0],\n",
       "  [55.0, 55.0, 65.0, 65.0],\n",
       "  [75.0, 75.0, 85.0, 85.0],\n",
       "  [60.0, 60.0, 80.0, 80.0],\n",
       "  [45.0, 45.0, 70.0, 70.0],\n",
       "  [30.0, 30.0, 57.5, 57.5],\n",
       "  [15.0, 15.0, 43.75, 43.75],\n",
       "  [5.0, 5.0, 29.375, 29.375]],\n",
       " 'dcoord': [[0.0, 0.0, 0.0, 0.0],\n",
       "  [0.0, 0.0, 0.0, 0.0],\n",
       "  [0.0, 0.0, 0.0, 0.0],\n",
       "  [0.0, 0.17154811715481166, 0.17154811715481166, 0.0],\n",
       "  [0.0, 0.572139303482587, 0.572139303482587, 0.17154811715481166],\n",
       "  [0.0, 0.6039094650205761, 0.6039094650205761, 0.572139303482587],\n",
       "  [0.0, 0.6565874730021598, 0.6565874730021598, 0.6039094650205761],\n",
       "  [0.0, 0.746031746031746, 0.746031746031746, 0.6565874730021598]],\n",
       " 'ivl': ['0', '2', '5', '6', '1', '7', '8', '3', '4'],\n",
       " 'leaves': [0, 2, 5, 6, 1, 7, 8, 3, 4],\n",
       " 'color_list': ['C1', 'C2', 'C2', 'C2', 'C0', 'C0', 'C0', 'C0'],\n",
       " 'leaves_color_list': ['C0', 'C0', 'C0', 'C1', 'C0', 'C2', 'C2', 'C2', 'C2']}"
      ]
     },
     "execution_count": 20,
     "metadata": {},
     "output_type": "execute_result"
    },
    {
     "data": {
      "image/png": "[encoded data removed]",
      "text/plain": [
       "<Figure size 432x288 with 1 Axes>"
      ]
     },
     "metadata": {
      "needs_background": "light"
     },
     "output_type": "display_data"
    }
   ],
   "source": [
    "dendrogram(linked)"
   ]
  },
  {
   "cell_type": "code",
   "execution_count": null,
   "id": "robust-border",
   "metadata": {},
   "outputs": [],
   "source": []
  }
 ],
 "metadata": {
  "kernelspec": {
   "display_name": "Python 3",
   "language": "python",
   "name": "python3"
  },
  "language_info": {
   "codemirror_mode": {
    "name": "ipython",
    "version": 3
   },
   "file_extension": ".py",
   "mimetype": "text/x-python",
   "name": "python",
   "nbconvert_exporter": "python",
   "pygments_lexer": "ipython3",
   "version": "3.7.10"
  }
 },
 "nbformat": 4,
 "nbformat_minor": 5
}
