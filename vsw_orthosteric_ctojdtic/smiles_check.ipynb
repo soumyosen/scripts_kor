{
 "cells": [
  {
   "cell_type": "code",
   "execution_count": 1,
   "id": "normal-activation",
   "metadata": {},
   "outputs": [],
   "source": [
    "import numpy as np\n",
    "import pandas as pd"
   ]
  },
  {
   "cell_type": "code",
   "execution_count": 2,
   "id": "passing-february",
   "metadata": {},
   "outputs": [
    {
     "data": {
      "text/html": [
       "<div>\n",
       "<style scoped>\n",
       "    .dataframe tbody tr th:only-of-type {\n",
       "        vertical-align: middle;\n",
       "    }\n",
       "\n",
       "    .dataframe tbody tr th {\n",
       "        vertical-align: top;\n",
       "    }\n",
       "\n",
       "    .dataframe thead th {\n",
       "        text-align: right;\n",
       "    }\n",
       "</style>\n",
       "<table border=\"1\" class=\"dataframe\">\n",
       "  <thead>\n",
       "    <tr style=\"text-align: right;\">\n",
       "      <th></th>\n",
       "      <th>SMILES</th>\n",
       "      <th>NAMES</th>\n",
       "    </tr>\n",
       "  </thead>\n",
       "  <tbody>\n",
       "    <tr>\n",
       "      <th>0</th>\n",
       "      <td>c1cc[nH+]c(c12)NC([O-])=CC(=N2)c3ccccc3</td>\n",
       "      <td>ZINC000015828584</td>\n",
       "    </tr>\n",
       "    <tr>\n",
       "      <th>1</th>\n",
       "      <td>COc1ccc(cc1OC)C[N@H+](CCC[NH3+])CC[C@@]2(c3ccc...</td>\n",
       "      <td>ZINC000015162196</td>\n",
       "    </tr>\n",
       "    <tr>\n",
       "      <th>2</th>\n",
       "      <td>n1ccccc1CCC(=O)N(CCC[NH+](C)C)C[C@H]2CC[N@@H+]...</td>\n",
       "      <td>ZINC000012308844</td>\n",
       "    </tr>\n",
       "    <tr>\n",
       "      <th>3</th>\n",
       "      <td>OCC(C1)CN1C(=O)Nc2cccc(c2)CCCc3ccccc3</td>\n",
       "      <td>ZINC000192211539</td>\n",
       "    </tr>\n",
       "    <tr>\n",
       "      <th>4</th>\n",
       "      <td>C[NH2+]CCC[NH2+]Cc1ccc(c(c1)OC)OCc2ccc(Cl)cc2</td>\n",
       "      <td>ZINC000008377044</td>\n",
       "    </tr>\n",
       "    <tr>\n",
       "      <th>...</th>\n",
       "      <td>...</td>\n",
       "      <td>...</td>\n",
       "    </tr>\n",
       "    <tr>\n",
       "      <th>40237</th>\n",
       "      <td>Cn1cc[nH+]c1[C@@H](c2ccc(F)cc2)NC(=O)CNC(=O)c3...</td>\n",
       "      <td>ZINC000012575505</td>\n",
       "    </tr>\n",
       "    <tr>\n",
       "      <th>40238</th>\n",
       "      <td>C1CSCC[NH+]1C[C@@H](O)COc2ccccc2CNCc3ccc(F)cc3</td>\n",
       "      <td>ZINC000014964630</td>\n",
       "    </tr>\n",
       "    <tr>\n",
       "      <th>40239</th>\n",
       "      <td>COc1ccccc1OCCCn(cn2)c(c23)cccc3</td>\n",
       "      <td>ZINC000002868223</td>\n",
       "    </tr>\n",
       "    <tr>\n",
       "      <th>40240</th>\n",
       "      <td>COc1c(Cl)cc(cc1OC)C[NH2+]CCc(c[nH]2)c(c23)cccc3</td>\n",
       "      <td>ZINC000004488639</td>\n",
       "    </tr>\n",
       "    <tr>\n",
       "      <th>40241</th>\n",
       "      <td>Fc1ccccc1CNC(=O)CC[N@H+](C2)C[C@H]([C@H]23)[C@...</td>\n",
       "      <td>ZINC000072171728</td>\n",
       "    </tr>\n",
       "  </tbody>\n",
       "</table>\n",
       "<p>40242 rows × 2 columns</p>\n",
       "</div>"
      ],
      "text/plain": [
       "                                                  SMILES             NAMES\n",
       "0                c1cc[nH+]c(c12)NC([O-])=CC(=N2)c3ccccc3  ZINC000015828584\n",
       "1      COc1ccc(cc1OC)C[N@H+](CCC[NH3+])CC[C@@]2(c3ccc...  ZINC000015162196\n",
       "2      n1ccccc1CCC(=O)N(CCC[NH+](C)C)C[C@H]2CC[N@@H+]...  ZINC000012308844\n",
       "3                  OCC(C1)CN1C(=O)Nc2cccc(c2)CCCc3ccccc3  ZINC000192211539\n",
       "4          C[NH2+]CCC[NH2+]Cc1ccc(c(c1)OC)OCc2ccc(Cl)cc2  ZINC000008377044\n",
       "...                                                  ...               ...\n",
       "40237  Cn1cc[nH+]c1[C@@H](c2ccc(F)cc2)NC(=O)CNC(=O)c3...  ZINC000012575505\n",
       "40238     C1CSCC[NH+]1C[C@@H](O)COc2ccccc2CNCc3ccc(F)cc3  ZINC000014964630\n",
       "40239                    COc1ccccc1OCCCn(cn2)c(c23)cccc3  ZINC000002868223\n",
       "40240    COc1c(Cl)cc(cc1OC)C[NH2+]CCc(c[nH]2)c(c23)cccc3  ZINC000004488639\n",
       "40241  Fc1ccccc1CNC(=O)CC[N@H+](C2)C[C@H]([C@H]23)[C@...  ZINC000072171728\n",
       "\n",
       "[40242 rows x 2 columns]"
      ]
     },
     "execution_count": 2,
     "metadata": {},
     "output_type": "execute_result"
    }
   ],
   "source": [
    "df = pd.read_csv(\"to_extract_binding_domain.smi\", sep=\" \", names=[\"SMILES\", \"NAMES\"])\n",
    "df"
   ]
  },
  {
   "cell_type": "code",
   "execution_count": 3,
   "id": "middle-hotel",
   "metadata": {},
   "outputs": [
    {
     "data": {
      "text/plain": [
       "0                  c1cc[nH+]c(c12)NC([O-])=CC(=N2)c3ccccc3\n",
       "1        COc1ccc(cc1OC)C[N@H+](CCC[NH3+])CC[C@@]2(c3ccc...\n",
       "2        n1ccccc1CCC(=O)N(CCC[NH+](C)C)C[C@H]2CC[N@@H+]...\n",
       "3                    OCC(C1)CN1C(=O)Nc2cccc(c2)CCCc3ccccc3\n",
       "4            C[NH2+]CCC[NH2+]Cc1ccc(c(c1)OC)OCc2ccc(Cl)cc2\n",
       "                               ...                        \n",
       "40237    Cn1cc[nH+]c1[C@@H](c2ccc(F)cc2)NC(=O)CNC(=O)c3...\n",
       "40238       C1CSCC[NH+]1C[C@@H](O)COc2ccccc2CNCc3ccc(F)cc3\n",
       "40239                      COc1ccccc1OCCCn(cn2)c(c23)cccc3\n",
       "40240      COc1c(Cl)cc(cc1OC)C[NH2+]CCc(c[nH]2)c(c23)cccc3\n",
       "40241    Fc1ccccc1CNC(=O)CC[N@H+](C2)C[C@H]([C@H]23)[C@...\n",
       "Name: SMILES, Length: 40242, dtype: object"
      ]
     },
     "execution_count": 3,
     "metadata": {},
     "output_type": "execute_result"
    }
   ],
   "source": [
    "df1 = df[\"SMILES\"]\n",
    "df1"
   ]
  },
  {
   "cell_type": "code",
   "execution_count": 4,
   "id": "modified-collector",
   "metadata": {},
   "outputs": [],
   "source": [
    "df1.to_csv(\"to_extract_binding_domain1.smi\", index=False)"
   ]
  },
  {
   "cell_type": "code",
   "execution_count": null,
   "id": "virtual-reviewer",
   "metadata": {},
   "outputs": [],
   "source": []
  }
 ],
 "metadata": {
  "kernelspec": {
   "display_name": "Python 3",
   "language": "python",
   "name": "python3"
  },
  "language_info": {
   "codemirror_mode": {
    "name": "ipython",
    "version": 3
   },
   "file_extension": ".py",
   "mimetype": "text/x-python",
   "name": "python",
   "nbconvert_exporter": "python",
   "pygments_lexer": "ipython3",
   "version": "3.7.10"
  }
 },
 "nbformat": 4,
 "nbformat_minor": 5
}
