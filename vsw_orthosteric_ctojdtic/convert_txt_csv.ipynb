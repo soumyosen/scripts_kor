{
 "cells": [
  {
   "cell_type": "code",
   "execution_count": 6,
   "metadata": {},
   "outputs": [],
   "source": [
    "import pandas as pd"
   ]
  },
  {
   "cell_type": "code",
   "execution_count": 7,
   "metadata": {},
   "outputs": [],
   "source": [
    "df = pd.read_csv(\"for_next_phase_only_lig_smiles_frm_maestro.txt\", sep=\" \", names=[\"Smiles\", \"NAMES\"])"
   ]
  },
  {
   "cell_type": "code",
   "execution_count": 8,
   "metadata": {},
   "outputs": [
    {
     "data": {
      "text/html": [
       "<div>\n",
       "<style scoped>\n",
       "    .dataframe tbody tr th:only-of-type {\n",
       "        vertical-align: middle;\n",
       "    }\n",
       "\n",
       "    .dataframe tbody tr th {\n",
       "        vertical-align: top;\n",
       "    }\n",
       "\n",
       "    .dataframe thead th {\n",
       "        text-align: right;\n",
       "    }\n",
       "</style>\n",
       "<table border=\"1\" class=\"dataframe\">\n",
       "  <thead>\n",
       "    <tr style=\"text-align: right;\">\n",
       "      <th></th>\n",
       "      <th>Smiles</th>\n",
       "      <th>NAMES</th>\n",
       "    </tr>\n",
       "  </thead>\n",
       "  <tbody>\n",
       "    <tr>\n",
       "      <th>0</th>\n",
       "      <td>NC(=O)c1ccc[n+](c1)[C@@H]2O[C@@H]([C@H](O)[C@H...</td>\n",
       "      <td>ZINC000238950259</td>\n",
       "    </tr>\n",
       "    <tr>\n",
       "      <th>1</th>\n",
       "      <td>O[P+]1(O)O[P+](O)(O)O[P+](O)(O)O[P+](O)(O)O[P+...</td>\n",
       "      <td>ZINC000257373260</td>\n",
       "    </tr>\n",
       "    <tr>\n",
       "      <th>2</th>\n",
       "      <td>NC(=O)c1ccc[n+](c1)[C@@H]2O[C@@H]([C@@H](O)[C@...</td>\n",
       "      <td>ZINC000238950261</td>\n",
       "    </tr>\n",
       "    <tr>\n",
       "      <th>3</th>\n",
       "      <td>Nc1ncnc(c12)n(cn2)[C@@H]3O[C@@H](C[C@H]3O)CO[P...</td>\n",
       "      <td>ZINC000013540909</td>\n",
       "    </tr>\n",
       "    <tr>\n",
       "      <th>4</th>\n",
       "      <td>O=c1ccn(c(=O)[nH]1)[C@@H]2O[C@H]([C@@H](O)[C@H...</td>\n",
       "      <td>ZINC000003875256</td>\n",
       "    </tr>\n",
       "    <tr>\n",
       "      <th>...</th>\n",
       "      <td>...</td>\n",
       "      <td>...</td>\n",
       "    </tr>\n",
       "    <tr>\n",
       "      <th>136139</th>\n",
       "      <td>COc1ccc(cc1)N[C@H]2CCC[N@H+](C2)Cc3cc(OC)c(OC)...</td>\n",
       "      <td>ZINC000011937649</td>\n",
       "    </tr>\n",
       "    <tr>\n",
       "      <th>136140</th>\n",
       "      <td>COc1ccc(cc1)N[C@H]2CCC[N@H+](C2)Cc3cc(OC)c(OC)...</td>\n",
       "      <td>ZINC000011937649</td>\n",
       "    </tr>\n",
       "    <tr>\n",
       "      <th>136141</th>\n",
       "      <td>COc1ccccc1OCCCn(cn2)c(c23)cccc3</td>\n",
       "      <td>ZINC000002868223</td>\n",
       "    </tr>\n",
       "    <tr>\n",
       "      <th>136142</th>\n",
       "      <td>COc1c(Cl)cc(cc1OC)C[NH2+]CCc(c[nH]2)c(c23)cccc3</td>\n",
       "      <td>ZINC000004488639</td>\n",
       "    </tr>\n",
       "    <tr>\n",
       "      <th>136143</th>\n",
       "      <td>Fc1ccccc1CNC(=O)CC[N@H+](C2)C[C@H]([C@H]23)[C@...</td>\n",
       "      <td>ZINC000072171728</td>\n",
       "    </tr>\n",
       "  </tbody>\n",
       "</table>\n",
       "<p>136144 rows × 2 columns</p>\n",
       "</div>"
      ],
      "text/plain": [
       "                                                   Smiles             NAMES\n",
       "0       NC(=O)c1ccc[n+](c1)[C@@H]2O[C@@H]([C@H](O)[C@H...  ZINC000238950259\n",
       "1       O[P+]1(O)O[P+](O)(O)O[P+](O)(O)O[P+](O)(O)O[P+...  ZINC000257373260\n",
       "2       NC(=O)c1ccc[n+](c1)[C@@H]2O[C@@H]([C@@H](O)[C@...  ZINC000238950261\n",
       "3       Nc1ncnc(c12)n(cn2)[C@@H]3O[C@@H](C[C@H]3O)CO[P...  ZINC000013540909\n",
       "4       O=c1ccn(c(=O)[nH]1)[C@@H]2O[C@H]([C@@H](O)[C@H...  ZINC000003875256\n",
       "...                                                   ...               ...\n",
       "136139  COc1ccc(cc1)N[C@H]2CCC[N@H+](C2)Cc3cc(OC)c(OC)...  ZINC000011937649\n",
       "136140  COc1ccc(cc1)N[C@H]2CCC[N@H+](C2)Cc3cc(OC)c(OC)...  ZINC000011937649\n",
       "136141                    COc1ccccc1OCCCn(cn2)c(c23)cccc3  ZINC000002868223\n",
       "136142    COc1c(Cl)cc(cc1OC)C[NH2+]CCc(c[nH]2)c(c23)cccc3  ZINC000004488639\n",
       "136143  Fc1ccccc1CNC(=O)CC[N@H+](C2)C[C@H]([C@H]23)[C@...  ZINC000072171728\n",
       "\n",
       "[136144 rows x 2 columns]"
      ]
     },
     "execution_count": 8,
     "metadata": {},
     "output_type": "execute_result"
    }
   ],
   "source": [
    "df"
   ]
  },
  {
   "cell_type": "code",
   "execution_count": 9,
   "metadata": {},
   "outputs": [],
   "source": [
    "df.to_csv(\"for_next_phase_only_lig_smiles_frm_maestro.csv\", index=False)"
   ]
  },
  {
   "cell_type": "code",
   "execution_count": 10,
   "metadata": {},
   "outputs": [
    {
     "data": {
      "text/html": [
       "<div>\n",
       "<style scoped>\n",
       "    .dataframe tbody tr th:only-of-type {\n",
       "        vertical-align: middle;\n",
       "    }\n",
       "\n",
       "    .dataframe tbody tr th {\n",
       "        vertical-align: top;\n",
       "    }\n",
       "\n",
       "    .dataframe thead th {\n",
       "        text-align: right;\n",
       "    }\n",
       "</style>\n",
       "<table border=\"1\" class=\"dataframe\">\n",
       "  <thead>\n",
       "    <tr style=\"text-align: right;\">\n",
       "      <th></th>\n",
       "      <th>Smiles</th>\n",
       "      <th>NAMES</th>\n",
       "    </tr>\n",
       "  </thead>\n",
       "  <tbody>\n",
       "    <tr>\n",
       "      <th>52680</th>\n",
       "      <td>C[N@H+]([C@H]12)[C@@H](CC1)C[C@H](C2)OC(=O)[C@...</td>\n",
       "      <td>ZINC000000000056</td>\n",
       "    </tr>\n",
       "    <tr>\n",
       "      <th>52681</th>\n",
       "      <td>C[N@H+]([C@H]12)[C@@H](CC1)C[C@H](C2)OC(=O)[C@...</td>\n",
       "      <td>ZINC000000000056</td>\n",
       "    </tr>\n",
       "  </tbody>\n",
       "</table>\n",
       "</div>"
      ],
      "text/plain": [
       "                                                  Smiles             NAMES\n",
       "52680  C[N@H+]([C@H]12)[C@@H](CC1)C[C@H](C2)OC(=O)[C@...  ZINC000000000056\n",
       "52681  C[N@H+]([C@H]12)[C@@H](CC1)C[C@H](C2)OC(=O)[C@...  ZINC000000000056"
      ]
     },
     "execution_count": 10,
     "metadata": {},
     "output_type": "execute_result"
    }
   ],
   "source": [
    "df[df[\"NAMES\"]==\"ZINC000000000056\"]"
   ]
  },
  {
   "cell_type": "code",
   "execution_count": 13,
   "metadata": {},
   "outputs": [],
   "source": [
    "df1 = pd.read_csv(\"for_next_phase_only_lig_smiles_frm_maestro.csv\")"
   ]
  },
  {
   "cell_type": "code",
   "execution_count": 14,
   "metadata": {},
   "outputs": [
    {
     "data": {
      "text/html": [
       "<div>\n",
       "<style scoped>\n",
       "    .dataframe tbody tr th:only-of-type {\n",
       "        vertical-align: middle;\n",
       "    }\n",
       "\n",
       "    .dataframe tbody tr th {\n",
       "        vertical-align: top;\n",
       "    }\n",
       "\n",
       "    .dataframe thead th {\n",
       "        text-align: right;\n",
       "    }\n",
       "</style>\n",
       "<table border=\"1\" class=\"dataframe\">\n",
       "  <thead>\n",
       "    <tr style=\"text-align: right;\">\n",
       "      <th></th>\n",
       "      <th>Smiles</th>\n",
       "      <th>NAMES</th>\n",
       "    </tr>\n",
       "  </thead>\n",
       "  <tbody>\n",
       "    <tr>\n",
       "      <th>52680</th>\n",
       "      <td>C[N@H+]([C@H]12)[C@@H](CC1)C[C@H](C2)OC(=O)[C@...</td>\n",
       "      <td>ZINC000000000056</td>\n",
       "    </tr>\n",
       "    <tr>\n",
       "      <th>52681</th>\n",
       "      <td>C[N@H+]([C@H]12)[C@@H](CC1)C[C@H](C2)OC(=O)[C@...</td>\n",
       "      <td>ZINC000000000056</td>\n",
       "    </tr>\n",
       "  </tbody>\n",
       "</table>\n",
       "</div>"
      ],
      "text/plain": [
       "                                                  Smiles             NAMES\n",
       "52680  C[N@H+]([C@H]12)[C@@H](CC1)C[C@H](C2)OC(=O)[C@...  ZINC000000000056\n",
       "52681  C[N@H+]([C@H]12)[C@@H](CC1)C[C@H](C2)OC(=O)[C@...  ZINC000000000056"
      ]
     },
     "execution_count": 14,
     "metadata": {},
     "output_type": "execute_result"
    }
   ],
   "source": [
    "df1[df1[\"NAMES\"]==\"ZINC000000000056\"]"
   ]
  },
  {
   "cell_type": "code",
   "execution_count": null,
   "metadata": {},
   "outputs": [],
   "source": []
  }
 ],
 "metadata": {
  "kernelspec": {
   "display_name": "Python 3",
   "language": "python",
   "name": "python3"
  },
  "language_info": {
   "codemirror_mode": {
    "name": "ipython",
    "version": 3
   },
   "file_extension": ".py",
   "mimetype": "text/x-python",
   "name": "python",
   "nbconvert_exporter": "python",
   "pygments_lexer": "ipython3",
   "version": "3.8.5"
  }
 },
 "nbformat": 4,
 "nbformat_minor": 4
}
