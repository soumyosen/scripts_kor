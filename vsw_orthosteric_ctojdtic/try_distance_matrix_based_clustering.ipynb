{
 "cells": [
  {
   "cell_type": "code",
   "execution_count": 1,
   "metadata": {},
   "outputs": [],
   "source": [
    "import pandas as pd\n",
    "import numpy as np\n",
    "import matplotlib.pyplot as plt"
   ]
  },
  {
   "cell_type": "code",
   "execution_count": 2,
   "metadata": {},
   "outputs": [],
   "source": [
    "from scipy.cluster import hierarchy as hier\n",
    "from scipy.spatial import distance as ssd"
   ]
  },
  {
   "cell_type": "code",
   "execution_count": 3,
   "metadata": {},
   "outputs": [],
   "source": [
    "np.random.seed(2016)"
   ]
  },
  {
   "cell_type": "code",
   "execution_count": 4,
   "metadata": {},
   "outputs": [
    {
     "data": {
      "text/plain": [
       "array([[0.89670536, 0.73023921],\n",
       "       [0.78327576, 0.74165167],\n",
       "       [0.4620905 , 0.64256513],\n",
       "       [0.22486422, 0.70854663],\n",
       "       [0.74712601, 0.62510742],\n",
       "       [0.57995641, 0.24264034],\n",
       "       [0.13195639, 0.14394847],\n",
       "       [0.60363797, 0.58879082],\n",
       "       [0.06934744, 0.94282887],\n",
       "       [0.37259879, 0.45198934]])"
      ]
     },
     "execution_count": 4,
     "metadata": {},
     "output_type": "execute_result"
    }
   ],
   "source": [
    "points = np.random.random((10, 2))\n",
    "points"
   ]
  },
  {
   "cell_type": "code",
   "execution_count": 5,
   "metadata": {},
   "outputs": [
    {
     "data": {
      "text/plain": [
       "array([[0.        , 0.11400227, 0.44336985, 0.67219125, 0.18282963,\n",
       "        0.58144867, 0.96362742, 0.32541687, 0.85423386, 0.59338915],\n",
       "       [0.11400227, 0.        , 0.33612217, 0.55939198, 0.12202199,\n",
       "        0.53884233, 0.88400567, 0.23587321, 0.7417317 , 0.50255332],\n",
       "       [0.44336985, 0.33612217, 0.        , 0.24623132, 0.28556964,\n",
       "        0.4169319 , 0.59800259, 0.15141785, 0.49437377, 0.21054192],\n",
       "       [0.67219125, 0.55939198, 0.24623132, 0.        , 0.52888513,\n",
       "        0.58579785, 0.57219135, 0.39725433, 0.28120035, 0.29605261],\n",
       "       [0.18282963, 0.12202199, 0.28556964, 0.52888513, 0.        ,\n",
       "        0.41740476, 0.78099141, 0.14801254, 0.74855241, 0.41260212],\n",
       "       [0.58144867, 0.53884233, 0.4169319 , 0.58579785, 0.41740476,\n",
       "        0.        , 0.45874187, 0.3469596 , 0.86659419, 0.29465943],\n",
       "       [0.96362742, 0.88400567, 0.59800259, 0.57219135, 0.78099141,\n",
       "        0.45874187, 0.        , 0.6483581 , 0.80133   , 0.39089377],\n",
       "       [0.32541687, 0.23587321, 0.15141785, 0.39725433, 0.14801254,\n",
       "        0.3469596 , 0.6483581 , 0.        , 0.64094408, 0.26850279],\n",
       "       [0.85423386, 0.7417317 , 0.49437377, 0.28120035, 0.74855241,\n",
       "        0.86659419, 0.80133   , 0.64094408, 0.        , 0.57696172],\n",
       "       [0.59338915, 0.50255332, 0.21054192, 0.29605261, 0.41260212,\n",
       "        0.29465943, 0.39089377, 0.26850279, 0.57696172, 0.        ]])"
      ]
     },
     "execution_count": 5,
     "metadata": {},
     "output_type": "execute_result"
    }
   ],
   "source": [
    "arr = ssd.cdist(points, points)\n",
    "arr"
   ]
  },
  {
   "cell_type": "code",
   "execution_count": 6,
   "metadata": {},
   "outputs": [
    {
     "data": {
      "text/plain": [
       "(10, 10)"
      ]
     },
     "execution_count": 6,
     "metadata": {},
     "output_type": "execute_result"
    }
   ],
   "source": [
    "arr.shape"
   ]
  },
  {
   "cell_type": "code",
   "execution_count": 8,
   "metadata": {},
   "outputs": [
    {
     "data": {
      "text/plain": [
       "(array([0, 0, 0, 0, 0, 0, 0, 0, 0, 1, 1, 1, 1, 1, 1, 1, 1, 2, 2, 2, 2, 2,\n",
       "        2, 2, 3, 3, 3, 3, 3, 3, 4, 4, 4, 4, 4, 5, 5, 5, 5, 6, 6, 6, 7, 7,\n",
       "        8]),\n",
       " array([1, 2, 3, 4, 5, 6, 7, 8, 9, 2, 3, 4, 5, 6, 7, 8, 9, 3, 4, 5, 6, 7,\n",
       "        8, 9, 4, 5, 6, 7, 8, 9, 5, 6, 7, 8, 9, 6, 7, 8, 9, 7, 8, 9, 8, 9,\n",
       "        9]))"
      ]
     },
     "execution_count": 8,
     "metadata": {},
     "output_type": "execute_result"
    }
   ],
   "source": [
    "np.triu_indices(arr.shape[0], 1)"
   ]
  },
  {
   "cell_type": "code",
   "execution_count": 9,
   "metadata": {},
   "outputs": [
    {
     "data": {
      "text/plain": [
       "array([[ 0.        ,  1.        ,  0.11400227,  2.        ],\n",
       "       [ 4.        ,  7.        ,  0.14801254,  2.        ],\n",
       "       [ 2.        ,  9.        ,  0.21054192,  2.        ],\n",
       "       [10.        , 11.        ,  0.21653543,  4.        ],\n",
       "       [ 3.        , 12.        ,  0.27114196,  3.        ],\n",
       "       [13.        , 14.        ,  0.4292708 ,  7.        ],\n",
       "       [ 5.        , 15.        ,  0.45457779,  8.        ],\n",
       "       [ 8.        , 16.        ,  0.65057401,  9.        ],\n",
       "       [ 6.        , 17.        ,  0.67757135, 10.        ]])"
      ]
     },
     "execution_count": 9,
     "metadata": {},
     "output_type": "execute_result"
    }
   ],
   "source": [
    "Z = hier.linkage(arr[np.triu_indices(arr.shape[0], 1)], method=\"average\")\n",
    "Z"
   ]
  },
  {
   "cell_type": "code",
   "execution_count": 10,
   "metadata": {},
   "outputs": [
    {
     "data": {
      "text/plain": [
       "array([[ 0.        ,  1.        ,  0.11400227,  2.        ],\n",
       "       [ 4.        , 10.        ,  0.12202199,  3.        ],\n",
       "       [ 7.        , 11.        ,  0.14801254,  4.        ],\n",
       "       [ 2.        , 12.        ,  0.15141785,  5.        ],\n",
       "       [ 9.        , 13.        ,  0.21054192,  6.        ],\n",
       "       [ 3.        , 14.        ,  0.24623132,  7.        ],\n",
       "       [ 8.        , 15.        ,  0.28120035,  8.        ],\n",
       "       [ 5.        , 16.        ,  0.29465943,  9.        ],\n",
       "       [ 6.        , 17.        ,  0.39089377, 10.        ]])"
      ]
     },
     "execution_count": 10,
     "metadata": {},
     "output_type": "execute_result"
    }
   ],
   "source": [
    "Z = hier.linkage(arr[np.triu_indices(arr.shape[0], 1)], method=\"single\")\n",
    "Z"
   ]
  },
  {
   "cell_type": "code",
   "execution_count": 12,
   "metadata": {},
   "outputs": [
    {
     "data": {
      "text/plain": [
       "{'icoord': [[85.0, 85.0, 95.0, 95.0],\n",
       "  [75.0, 75.0, 90.0, 90.0],\n",
       "  [65.0, 65.0, 82.5, 82.5],\n",
       "  [55.0, 55.0, 73.75, 73.75],\n",
       "  [45.0, 45.0, 64.375, 64.375],\n",
       "  [35.0, 35.0, 54.6875, 54.6875],\n",
       "  [25.0, 25.0, 44.84375, 44.84375],\n",
       "  [15.0, 15.0, 34.921875, 34.921875],\n",
       "  [5.0, 5.0, 24.9609375, 24.9609375]],\n",
       " 'dcoord': [[0.0, 0.11400227130614476, 0.11400227130614476, 0.0],\n",
       "  [0.0, 0.12202199150045283, 0.12202199150045283, 0.11400227130614476],\n",
       "  [0.0, 0.14801254425684376, 0.14801254425684376, 0.12202199150045283],\n",
       "  [0.0, 0.1514178450710251, 0.1514178450710251, 0.14801254425684376],\n",
       "  [0.0, 0.21054191714104908, 0.21054191714104908, 0.1514178450710251],\n",
       "  [0.0, 0.2462313197154482, 0.2462313197154482, 0.21054191714104908],\n",
       "  [0.0, 0.28120035364580204, 0.28120035364580204, 0.2462313197154482],\n",
       "  [0.0, 0.29465943470221845, 0.29465943470221845, 0.28120035364580204],\n",
       "  [0.0, 0.39089376799890674, 0.39089376799890674, 0.29465943470221845]],\n",
       " 'ivl': ['6', '5', '8', '3', '9', '2', '7', '4', '0', '1'],\n",
       " 'leaves': [6, 5, 8, 3, 9, 2, 7, 4, 0, 1],\n",
       " 'color_list': ['C1', 'C1', 'C1', 'C1', 'C1', 'C1', 'C0', 'C0', 'C0']}"
      ]
     },
     "execution_count": 12,
     "metadata": {},
     "output_type": "execute_result"
    },
    {
     "data": {
      "image/png": "[encoded data removed]",
      "text/plain": [
       "<Figure size 432x288 with 1 Axes>"
      ]
     },
     "metadata": {
      "needs_background": "light"
     },
     "output_type": "display_data"
    }
   ],
   "source": [
    "hier.dendrogram(Z)\n"
   ]
  },
  {
   "cell_type": "code",
   "execution_count": 14,
   "metadata": {},
   "outputs": [
    {
     "data": {
      "text/plain": [
       "array([0.11400227, 0.44336985, 0.67219125, 0.18282963, 0.58144867,\n",
       "       0.96362742, 0.32541687, 0.85423386, 0.59338915, 0.33612217,\n",
       "       0.55939198, 0.12202199, 0.53884233, 0.88400567, 0.23587321,\n",
       "       0.7417317 , 0.50255332, 0.24623132, 0.28556964, 0.4169319 ,\n",
       "       0.59800259, 0.15141785, 0.49437377, 0.21054192, 0.52888513,\n",
       "       0.58579785, 0.57219135, 0.39725433, 0.28120035, 0.29605261,\n",
       "       0.41740476, 0.78099141, 0.14801254, 0.74855241, 0.41260212,\n",
       "       0.45874187, 0.3469596 , 0.86659419, 0.29465943, 0.6483581 ,\n",
       "       0.80133   , 0.39089377, 0.64094408, 0.26850279, 0.57696172])"
      ]
     },
     "execution_count": 14,
     "metadata": {},
     "output_type": "execute_result"
    }
   ],
   "source": [
    "distArray = ssd.squareform(arr)\n",
    "distArray"
   ]
  },
  {
   "cell_type": "code",
   "execution_count": null,
   "metadata": {},
   "outputs": [],
   "source": []
  }
 ],
 "metadata": {
  "kernelspec": {
   "display_name": "Python 3",
   "language": "python",
   "name": "python3"
  },
  "language_info": {
   "codemirror_mode": {
    "name": "ipython",
    "version": 3
   },
   "file_extension": ".py",
   "mimetype": "text/x-python",
   "name": "python",
   "nbconvert_exporter": "python",
   "pygments_lexer": "ipython3",
   "version": "3.7.10"
  }
 },
 "nbformat": 4,
 "nbformat_minor": 4
}
