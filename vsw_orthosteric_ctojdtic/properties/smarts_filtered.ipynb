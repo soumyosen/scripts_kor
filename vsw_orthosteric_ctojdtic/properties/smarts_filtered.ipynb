{
 "cells": [
  {
   "cell_type": "code",
   "execution_count": 1,
   "id": "legendary-district",
   "metadata": {},
   "outputs": [],
   "source": [
    "import pandas as pd\n",
    "from rdkit import Chem\n",
    "from rdkit.Chem import Descriptors\n",
    "from rdkit import DataStructs\n",
    "from rdkit.Chem import AllChem\n",
    "from rdkit.Chem import Draw\n",
    "from rdkit.Chem.Draw import rdMolDraw2D"
   ]
  },
  {
   "cell_type": "code",
   "execution_count": 2,
   "id": "successful-hawaiian",
   "metadata": {},
   "outputs": [
    {
     "data": {
      "text/html": [
       "<div>\n",
       "<style scoped>\n",
       "    .dataframe tbody tr th:only-of-type {\n",
       "        vertical-align: middle;\n",
       "    }\n",
       "\n",
       "    .dataframe tbody tr th {\n",
       "        vertical-align: top;\n",
       "    }\n",
       "\n",
       "    .dataframe thead th {\n",
       "        text-align: right;\n",
       "    }\n",
       "</style>\n",
       "<table border=\"1\" class=\"dataframe\">\n",
       "  <thead>\n",
       "    <tr style=\"text-align: right;\">\n",
       "      <th></th>\n",
       "      <th>names</th>\n",
       "      <th>smarts</th>\n",
       "    </tr>\n",
       "  </thead>\n",
       "  <tbody>\n",
       "    <tr>\n",
       "      <th>0</th>\n",
       "      <td>MCF1</td>\n",
       "      <td>[#6]=&amp;!@[#6]-[#6]#[#7]</td>\n",
       "    </tr>\n",
       "    <tr>\n",
       "      <th>1</th>\n",
       "      <td>MCF2</td>\n",
       "      <td>[#6]=&amp;!@[#6]-[#16](=[#8])=[#8]</td>\n",
       "    </tr>\n",
       "    <tr>\n",
       "      <th>2</th>\n",
       "      <td>MCF3</td>\n",
       "      <td>[#6]=&amp;!@[#6&amp;!H0]-&amp;!@[#6](=[#8])-&amp;!@[#7]</td>\n",
       "    </tr>\n",
       "    <tr>\n",
       "      <th>3</th>\n",
       "      <td>MCF4</td>\n",
       "      <td>[H]C([H])([#6])[F,Cl,Br,I]</td>\n",
       "    </tr>\n",
       "    <tr>\n",
       "      <th>4</th>\n",
       "      <td>MCF5</td>\n",
       "      <td>[#6]1-[#8]-[#6]-1</td>\n",
       "    </tr>\n",
       "    <tr>\n",
       "      <th>5</th>\n",
       "      <td>MCF6</td>\n",
       "      <td>[#6]-[#7]=[#6]=[#8]</td>\n",
       "    </tr>\n",
       "    <tr>\n",
       "      <th>6</th>\n",
       "      <td>MCF7</td>\n",
       "      <td>[#6&amp;!H0]=[#8]</td>\n",
       "    </tr>\n",
       "    <tr>\n",
       "      <th>7</th>\n",
       "      <td>MCF8</td>\n",
       "      <td>[#6](=&amp;!@[#7&amp;!H0])-&amp;!@[#6,#7,#8,#16]</td>\n",
       "    </tr>\n",
       "    <tr>\n",
       "      <th>8</th>\n",
       "      <td>MCF9</td>\n",
       "      <td>[#6]1-[#7]-[#6]-1</td>\n",
       "    </tr>\n",
       "    <tr>\n",
       "      <th>9</th>\n",
       "      <td>MCF10</td>\n",
       "      <td>[#6]~&amp;!@[#7]~&amp;!@[#7]~&amp;!@[#6]</td>\n",
       "    </tr>\n",
       "    <tr>\n",
       "      <th>10</th>\n",
       "      <td>MCF11</td>\n",
       "      <td>[#7]=&amp;!@[#7]</td>\n",
       "    </tr>\n",
       "    <tr>\n",
       "      <th>11</th>\n",
       "      <td>MCF12</td>\n",
       "      <td>[H][#6]-1=[#6]([H])-[#6]=[#6](-*)-[#8]-1</td>\n",
       "    </tr>\n",
       "    <tr>\n",
       "      <th>12</th>\n",
       "      <td>MCF13</td>\n",
       "      <td>[H][#6]-1=[#6]([H])-[#6]=[#6](-*)-[#16]-1</td>\n",
       "    </tr>\n",
       "    <tr>\n",
       "      <th>13</th>\n",
       "      <td>MCF14</td>\n",
       "      <td>[#17,#35,#53]-c(:*):[!#1!#6]:*</td>\n",
       "    </tr>\n",
       "    <tr>\n",
       "      <th>14</th>\n",
       "      <td>MCF15</td>\n",
       "      <td>[H][#7]([H])-[#6]-1=[#6]-[#6]=[#6]-[#6]=[#6]-1</td>\n",
       "    </tr>\n",
       "    <tr>\n",
       "      <th>15</th>\n",
       "      <td>MCF16</td>\n",
       "      <td>[#16]~[#16]</td>\n",
       "    </tr>\n",
       "    <tr>\n",
       "      <th>16</th>\n",
       "      <td>MCF17</td>\n",
       "      <td>[#7]~&amp;!@[#7]~&amp;!@[#7]</td>\n",
       "    </tr>\n",
       "    <tr>\n",
       "      <th>17</th>\n",
       "      <td>MCF18</td>\n",
       "      <td>[#7]-&amp;!@[#6&amp;!H0&amp;!H1]-&amp;!@[#7]</td>\n",
       "    </tr>\n",
       "    <tr>\n",
       "      <th>18</th>\n",
       "      <td>MCF19</td>\n",
       "      <td>[#6&amp;!H0](-&amp;!@[#8])-&amp;!@[#8]</td>\n",
       "    </tr>\n",
       "    <tr>\n",
       "      <th>19</th>\n",
       "      <td>MCF20</td>\n",
       "      <td>[#35].[#35].[#35]</td>\n",
       "    </tr>\n",
       "    <tr>\n",
       "      <th>20</th>\n",
       "      <td>MCF21</td>\n",
       "      <td>[#17].[#17].[#17].[#17]</td>\n",
       "    </tr>\n",
       "    <tr>\n",
       "      <th>21</th>\n",
       "      <td>MCF22</td>\n",
       "      <td>[#9].[#9].[#9].[#9].[#9].[#9].[#9]</td>\n",
       "    </tr>\n",
       "  </tbody>\n",
       "</table>\n",
       "</div>"
      ],
      "text/plain": [
       "    names                                          smarts\n",
       "0    MCF1                          [#6]=&!@[#6]-[#6]#[#7]\n",
       "1    MCF2                  [#6]=&!@[#6]-[#16](=[#8])=[#8]\n",
       "2    MCF3         [#6]=&!@[#6&!H0]-&!@[#6](=[#8])-&!@[#7]\n",
       "3    MCF4                      [H]C([H])([#6])[F,Cl,Br,I]\n",
       "4    MCF5                               [#6]1-[#8]-[#6]-1\n",
       "5    MCF6                             [#6]-[#7]=[#6]=[#8]\n",
       "6    MCF7                                   [#6&!H0]=[#8]\n",
       "7    MCF8            [#6](=&!@[#7&!H0])-&!@[#6,#7,#8,#16]\n",
       "8    MCF9                               [#6]1-[#7]-[#6]-1\n",
       "9   MCF10                    [#6]~&!@[#7]~&!@[#7]~&!@[#6]\n",
       "10  MCF11                                    [#7]=&!@[#7]\n",
       "11  MCF12        [H][#6]-1=[#6]([H])-[#6]=[#6](-*)-[#8]-1\n",
       "12  MCF13       [H][#6]-1=[#6]([H])-[#6]=[#6](-*)-[#16]-1\n",
       "13  MCF14                  [#17,#35,#53]-c(:*):[!#1!#6]:*\n",
       "14  MCF15  [H][#7]([H])-[#6]-1=[#6]-[#6]=[#6]-[#6]=[#6]-1\n",
       "15  MCF16                                     [#16]~[#16]\n",
       "16  MCF17                            [#7]~&!@[#7]~&!@[#7]\n",
       "17  MCF18                    [#7]-&!@[#6&!H0&!H1]-&!@[#7]\n",
       "18  MCF19                      [#6&!H0](-&!@[#8])-&!@[#8]\n",
       "19  MCF20                               [#35].[#35].[#35]\n",
       "20  MCF21                         [#17].[#17].[#17].[#17]\n",
       "21  MCF22              [#9].[#9].[#9].[#9].[#9].[#9].[#9]"
      ]
     },
     "execution_count": 2,
     "metadata": {},
     "output_type": "execute_result"
    }
   ],
   "source": [
    "df_mcf = pd.read_csv(\"mcf.csv\")\n",
    "df_mcf"
   ]
  },
  {
   "cell_type": "code",
   "execution_count": 4,
   "id": "native-practice",
   "metadata": {},
   "outputs": [
    {
     "data": {
      "text/html": [
       "<div>\n",
       "<style scoped>\n",
       "    .dataframe tbody tr th:only-of-type {\n",
       "        vertical-align: middle;\n",
       "    }\n",
       "\n",
       "    .dataframe tbody tr th {\n",
       "        vertical-align: top;\n",
       "    }\n",
       "\n",
       "    .dataframe thead th {\n",
       "        text-align: right;\n",
       "    }\n",
       "</style>\n",
       "<table border=\"1\" class=\"dataframe\">\n",
       "  <thead>\n",
       "    <tr style=\"text-align: right;\">\n",
       "      <th></th>\n",
       "      <th>smarts</th>\n",
       "      <th>tag</th>\n",
       "    </tr>\n",
       "  </thead>\n",
       "  <tbody>\n",
       "    <tr>\n",
       "      <th>0</th>\n",
       "      <td>c:1:c:c(:c:c:c:1-[#6;X4]-c:2:c:c:c(:c:c:2)-[#7...</td>\n",
       "      <td>&lt;regId=anil_di_alk_F(14)&gt;</td>\n",
       "    </tr>\n",
       "    <tr>\n",
       "      <th>1</th>\n",
       "      <td>c:1(:c(:c(:c(:c(:c:1-[#1])-[#1])-[#7](-[#1])-[...</td>\n",
       "      <td>&lt;regId=hzone_anil(14)&gt;</td>\n",
       "    </tr>\n",
       "    <tr>\n",
       "      <th>2</th>\n",
       "      <td>c1(nn(c([c;!H0,$(c-[#6;!H0])]1)-[#8]-[#1])-c:2...</td>\n",
       "      <td>&lt;regId=het_5_pyrazole_OH(14)&gt;</td>\n",
       "    </tr>\n",
       "    <tr>\n",
       "      <th>3</th>\n",
       "      <td>c:2(:c:1-[#16]-c:3:c(-[#7;!H0,$([#7]-[CH3]),$(...</td>\n",
       "      <td>&lt;regId=het_thio_666_A(13)&gt;</td>\n",
       "    </tr>\n",
       "    <tr>\n",
       "      <th>4</th>\n",
       "      <td>[#6]-2-[#6]-c:1:c(:c:c:c:c:1)-[#6](-c:3:c:c:c:...</td>\n",
       "      <td>&lt;regId=styrene_A(13)&gt;</td>\n",
       "    </tr>\n",
       "    <tr>\n",
       "      <th>...</th>\n",
       "      <td>...</td>\n",
       "      <td>...</td>\n",
       "    </tr>\n",
       "    <tr>\n",
       "      <th>475</th>\n",
       "      <td>c:1(:c:c:c(:c:c:1)-[#6]=[#7]-[#7])-[#8]-[#1]  ...</td>\n",
       "      <td>&lt;regId=hzone_phenol_B(215)&gt;</td>\n",
       "    </tr>\n",
       "    <tr>\n",
       "      <th>476</th>\n",
       "      <td>[#6]-1(=[#6])-[#6]=[#7]-[!#6&amp;!#1]-[#6]-1=[#8] ...</td>\n",
       "      <td>&lt;regId=ene_five_het_A(201)&gt;</td>\n",
       "    </tr>\n",
       "    <tr>\n",
       "      <th>477</th>\n",
       "      <td>c:1:c:c(:c:c:c:1-[#7](-[#6;X4])-[#6;X4])-[#6;X...</td>\n",
       "      <td>&lt;regId=anil_di_alk_D(198)&gt;</td>\n",
       "    </tr>\n",
       "    <tr>\n",
       "      <th>478</th>\n",
       "      <td>[#8]=[#6]-2-[#6](=!@[#7]-[#7])-c:1:c:c:c:c:c:1...</td>\n",
       "      <td>&lt;regId=imine_one_isatin(189)&gt;</td>\n",
       "    </tr>\n",
       "    <tr>\n",
       "      <th>479</th>\n",
       "      <td>[#6](-[#1])-[#7](-[#6](-[#1])-[#1])-c:1:c(:c(:...</td>\n",
       "      <td>&lt;regId=anil_di_alk_E(186)&gt;</td>\n",
       "    </tr>\n",
       "  </tbody>\n",
       "</table>\n",
       "<p>480 rows × 2 columns</p>\n",
       "</div>"
      ],
      "text/plain": [
       "                                                smarts  \\\n",
       "0    c:1:c:c(:c:c:c:1-[#6;X4]-c:2:c:c:c(:c:c:2)-[#7...   \n",
       "1    c:1(:c(:c(:c(:c(:c:1-[#1])-[#1])-[#7](-[#1])-[...   \n",
       "2    c1(nn(c([c;!H0,$(c-[#6;!H0])]1)-[#8]-[#1])-c:2...   \n",
       "3    c:2(:c:1-[#16]-c:3:c(-[#7;!H0,$([#7]-[CH3]),$(...   \n",
       "4    [#6]-2-[#6]-c:1:c(:c:c:c:c:1)-[#6](-c:3:c:c:c:...   \n",
       "..                                                 ...   \n",
       "475  c:1(:c:c:c(:c:c:1)-[#6]=[#7]-[#7])-[#8]-[#1]  ...   \n",
       "476  [#6]-1(=[#6])-[#6]=[#7]-[!#6&!#1]-[#6]-1=[#8] ...   \n",
       "477  c:1:c:c(:c:c:c:1-[#7](-[#6;X4])-[#6;X4])-[#6;X...   \n",
       "478  [#8]=[#6]-2-[#6](=!@[#7]-[#7])-c:1:c:c:c:c:c:1...   \n",
       "479  [#6](-[#1])-[#7](-[#6](-[#1])-[#1])-c:1:c(:c(:...   \n",
       "\n",
       "                               tag  \n",
       "0        <regId=anil_di_alk_F(14)>  \n",
       "1           <regId=hzone_anil(14)>  \n",
       "2    <regId=het_5_pyrazole_OH(14)>  \n",
       "3       <regId=het_thio_666_A(13)>  \n",
       "4            <regId=styrene_A(13)>  \n",
       "..                             ...  \n",
       "475    <regId=hzone_phenol_B(215)>  \n",
       "476    <regId=ene_five_het_A(201)>  \n",
       "477     <regId=anil_di_alk_D(198)>  \n",
       "478  <regId=imine_one_isatin(189)>  \n",
       "479     <regId=anil_di_alk_E(186)>  \n",
       "\n",
       "[480 rows x 2 columns]"
      ]
     },
     "execution_count": 4,
     "metadata": {},
     "output_type": "execute_result"
    }
   ],
   "source": [
    "df_pains = pd.read_csv(\"wehi_pains.csv\", names=[\"smarts\", \"tag\"])\n",
    "df_pains"
   ]
  },
  {
   "cell_type": "code",
   "execution_count": 7,
   "id": "electric-competition",
   "metadata": {},
   "outputs": [
    {
     "data": {
      "text/plain": [
       "'c:1:c:c(:c:c:c:1-[#6;X4]-c:2:c:c:c(:c:c:2)-[#7&H2,$([#7;!H0]-[#6;X4]),$([#7](-[#6X4])-[#6X4])])-[#7&H2,$([#7;!H0]-[#6;X4]),$([#7](-[#6X4])-[#6X4])]                                                                                                                                                                                                                                                               '"
      ]
     },
     "execution_count": 7,
     "metadata": {},
     "output_type": "execute_result"
    }
   ],
   "source": [
    "df_pains.iloc[0][\"smarts\"]"
   ]
  },
  {
   "cell_type": "code",
   "execution_count": 8,
   "id": "thrown-center",
   "metadata": {},
   "outputs": [],
   "source": [
    "pattern = 'c:1:c:c(:c:c:c:1-[#6;X4]-c:2:c:c:c(:c:c:2)-[#7&H2,$([#7;!H0]-[#6;X4]),$([#7](-[#6X4])-[#6X4])])-[#7&H2,$([#7;!H0]-[#6;X4]),$([#7](-[#6X4])-[#6X4])]'"
   ]
  },
  {
   "cell_type": "code",
   "execution_count": 10,
   "id": "general-birthday",
   "metadata": {},
   "outputs": [],
   "source": [
    "mol1 = Chem.MolFromSmarts(pattern)"
   ]
  },
  {
   "cell_type": "code",
   "execution_count": 11,
   "id": "random-andrews",
   "metadata": {},
   "outputs": [
    {
     "data": {
      "image/png": "[encoded data removed]",
      "text/plain": [
       "<rdkit.Chem.rdchem.Mol at 0x7f6b33cca3a0>"
      ]
     },
     "execution_count": 11,
     "metadata": {},
     "output_type": "execute_result"
    }
   ],
   "source": [
    "mol1"
   ]
  },
  {
   "cell_type": "code",
   "execution_count": 22,
   "id": "positive-addiction",
   "metadata": {},
   "outputs": [],
   "source": [
    "mcf_list = df_mcf[\"smarts\"].tolist()\n",
    "#mcf_list1 = mcf_list[0]\n",
    "#mcf_list1"
   ]
  },
  {
   "cell_type": "code",
   "execution_count": 24,
   "id": "loose-detail",
   "metadata": {},
   "outputs": [],
   "source": [
    "mols = [Chem.MolFromSmarts(m) for m in mcf_list]"
   ]
  },
  {
   "cell_type": "code",
   "execution_count": 25,
   "id": "union-walter",
   "metadata": {},
   "outputs": [
    {
     "data": {
      "text/plain": [
       "[<rdkit.Chem.rdchem.Mol at 0x7f6b341e4170>,\n",
       " <rdkit.Chem.rdchem.Mol at 0x7f6b341e4a30>,\n",
       " <rdkit.Chem.rdchem.Mol at 0x7f6b341e4f30>,\n",
       " <rdkit.Chem.rdchem.Mol at 0x7f6b3472ef80>,\n",
       " <rdkit.Chem.rdchem.Mol at 0x7f6b3472e3f0>,\n",
       " <rdkit.Chem.rdchem.Mol at 0x7f6b3472e300>,\n",
       " <rdkit.Chem.rdchem.Mol at 0x7f6b3472e2b0>,\n",
       " <rdkit.Chem.rdchem.Mol at 0x7f6b3472e6c0>,\n",
       " <rdkit.Chem.rdchem.Mol at 0x7f6b3472e670>,\n",
       " <rdkit.Chem.rdchem.Mol at 0x7f6b3472e710>,\n",
       " <rdkit.Chem.rdchem.Mol at 0x7f6b3472e760>,\n",
       " <rdkit.Chem.rdchem.Mol at 0x7f6b3472e800>,\n",
       " <rdkit.Chem.rdchem.Mol at 0x7f6b3472e7b0>,\n",
       " <rdkit.Chem.rdchem.Mol at 0x7f6b3472e990>,\n",
       " <rdkit.Chem.rdchem.Mol at 0x7f6b3472ea80>,\n",
       " <rdkit.Chem.rdchem.Mol at 0x7f6b3472ead0>,\n",
       " <rdkit.Chem.rdchem.Mol at 0x7f6b3472ec10>,\n",
       " <rdkit.Chem.rdchem.Mol at 0x7f6b3472ebc0>,\n",
       " <rdkit.Chem.rdchem.Mol at 0x7f6b3472ec60>,\n",
       " <rdkit.Chem.rdchem.Mol at 0x7f6b3472ee40>,\n",
       " <rdkit.Chem.rdchem.Mol at 0x7f6b3472eee0>,\n",
       " <rdkit.Chem.rdchem.Mol at 0x7f6b3472e030>]"
      ]
     },
     "execution_count": 25,
     "metadata": {},
     "output_type": "execute_result"
    }
   ],
   "source": [
    "mols"
   ]
  },
  {
   "cell_type": "code",
   "execution_count": 27,
   "id": "fatty-auckland",
   "metadata": {},
   "outputs": [
    {
     "name": "stderr",
     "output_type": "stream",
     "text": [
      "RDKit ERROR: [16:08:13] non-ring atom 1 marked aromatic\n"
     ]
    },
    {
     "ename": "AtomKekulizeException",
     "evalue": "non-ring atom 1 marked aromatic",
     "output_type": "error",
     "traceback": [
      "\u001b[0;31m---------------------------------------------------------------------------\u001b[0m",
      "\u001b[0;31mAtomKekulizeException\u001b[0m                     Traceback (most recent call last)",
      "\u001b[0;32m<ipython-input-27-555339cd1e95>\u001b[0m in \u001b[0;36m<module>\u001b[0;34m\u001b[0m\n\u001b[0;32m----> 1\u001b[0;31m \u001b[0mChem\u001b[0m\u001b[0;34m.\u001b[0m\u001b[0mDraw\u001b[0m\u001b[0;34m.\u001b[0m\u001b[0mMolsToImage\u001b[0m\u001b[0;34m(\u001b[0m\u001b[0mmols\u001b[0m\u001b[0;34m,\u001b[0m \u001b[0mlegends\u001b[0m\u001b[0;34m=\u001b[0m\u001b[0;32mNone\u001b[0m\u001b[0;34m)\u001b[0m\u001b[0;34m\u001b[0m\u001b[0;34m\u001b[0m\u001b[0m\n\u001b[0m",
      "\u001b[0;32m~/opt/anaconda3/envs/my-rdkit-env/lib/python3.7/site-packages/rdkit/Chem/Draw/__init__.py\u001b[0m in \u001b[0;36mMolsToImage\u001b[0;34m(mols, subImgSize, legends, **kwargs)\u001b[0m\n\u001b[1;32m    390\u001b[0m   \u001b[0mres\u001b[0m \u001b[0;34m=\u001b[0m \u001b[0mImage\u001b[0m\u001b[0;34m.\u001b[0m\u001b[0mnew\u001b[0m\u001b[0;34m(\u001b[0m\u001b[0;34m\"RGBA\"\u001b[0m\u001b[0;34m,\u001b[0m \u001b[0;34m(\u001b[0m\u001b[0msubImgSize\u001b[0m\u001b[0;34m[\u001b[0m\u001b[0;36m0\u001b[0m\u001b[0;34m]\u001b[0m \u001b[0;34m*\u001b[0m \u001b[0mlen\u001b[0m\u001b[0;34m(\u001b[0m\u001b[0mmols\u001b[0m\u001b[0;34m)\u001b[0m\u001b[0;34m,\u001b[0m \u001b[0msubImgSize\u001b[0m\u001b[0;34m[\u001b[0m\u001b[0;36m1\u001b[0m\u001b[0;34m]\u001b[0m\u001b[0;34m)\u001b[0m\u001b[0;34m)\u001b[0m\u001b[0;34m\u001b[0m\u001b[0;34m\u001b[0m\u001b[0m\n\u001b[1;32m    391\u001b[0m   \u001b[0;32mfor\u001b[0m \u001b[0mi\u001b[0m\u001b[0;34m,\u001b[0m \u001b[0mmol\u001b[0m \u001b[0;32min\u001b[0m \u001b[0menumerate\u001b[0m\u001b[0;34m(\u001b[0m\u001b[0mmols\u001b[0m\u001b[0;34m)\u001b[0m\u001b[0;34m:\u001b[0m\u001b[0;34m\u001b[0m\u001b[0;34m\u001b[0m\u001b[0m\n\u001b[0;32m--> 392\u001b[0;31m     \u001b[0mres\u001b[0m\u001b[0;34m.\u001b[0m\u001b[0mpaste\u001b[0m\u001b[0;34m(\u001b[0m\u001b[0mMolToImage\u001b[0m\u001b[0;34m(\u001b[0m\u001b[0mmol\u001b[0m\u001b[0;34m,\u001b[0m \u001b[0msubImgSize\u001b[0m\u001b[0;34m,\u001b[0m \u001b[0mlegend\u001b[0m\u001b[0;34m=\u001b[0m\u001b[0mlegends\u001b[0m\u001b[0;34m[\u001b[0m\u001b[0mi\u001b[0m\u001b[0;34m]\u001b[0m\u001b[0;34m,\u001b[0m \u001b[0;34m**\u001b[0m\u001b[0mkwargs\u001b[0m\u001b[0;34m)\u001b[0m\u001b[0;34m,\u001b[0m \u001b[0;34m(\u001b[0m\u001b[0mi\u001b[0m \u001b[0;34m*\u001b[0m \u001b[0msubImgSize\u001b[0m\u001b[0;34m[\u001b[0m\u001b[0;36m0\u001b[0m\u001b[0;34m]\u001b[0m\u001b[0;34m,\u001b[0m \u001b[0;36m0\u001b[0m\u001b[0;34m)\u001b[0m\u001b[0;34m)\u001b[0m\u001b[0;34m\u001b[0m\u001b[0;34m\u001b[0m\u001b[0m\n\u001b[0m\u001b[1;32m    393\u001b[0m   \u001b[0;32mreturn\u001b[0m \u001b[0mres\u001b[0m\u001b[0;34m\u001b[0m\u001b[0;34m\u001b[0m\u001b[0m\n\u001b[1;32m    394\u001b[0m \u001b[0;34m\u001b[0m\u001b[0m\n",
      "\u001b[0;32m~/opt/anaconda3/envs/my-rdkit-env/lib/python3.7/site-packages/rdkit/Chem/Draw/__init__.py\u001b[0m in \u001b[0;36mMolToImage\u001b[0;34m(mol, size, kekulize, wedgeBonds, fitImage, options, canvas, **kwargs)\u001b[0m\n\u001b[1;32m    193\u001b[0m   return _moltoimg(mol, size, kwargs.get('highlightAtoms', []), kwargs.get('legend', ''),\n\u001b[1;32m    194\u001b[0m                    \u001b[0mhighlightBonds\u001b[0m\u001b[0;34m=\u001b[0m\u001b[0mkwargs\u001b[0m\u001b[0;34m.\u001b[0m\u001b[0mget\u001b[0m\u001b[0;34m(\u001b[0m\u001b[0;34m'highlightBonds'\u001b[0m\u001b[0;34m,\u001b[0m \u001b[0;34m[\u001b[0m\u001b[0;34m]\u001b[0m\u001b[0;34m)\u001b[0m\u001b[0;34m,\u001b[0m \u001b[0mdrawOptions\u001b[0m\u001b[0;34m=\u001b[0m\u001b[0moptions\u001b[0m\u001b[0;34m,\u001b[0m\u001b[0;34m\u001b[0m\u001b[0;34m\u001b[0m\u001b[0m\n\u001b[0;32m--> 195\u001b[0;31m                    kekulize=kekulize, wedgeBonds=wedgeBonds)\n\u001b[0m\u001b[1;32m    196\u001b[0m \u001b[0;34m\u001b[0m\u001b[0m\n\u001b[1;32m    197\u001b[0m \u001b[0;34m\u001b[0m\u001b[0m\n",
      "\u001b[0;32m~/opt/anaconda3/envs/my-rdkit-env/lib/python3.7/site-packages/rdkit/Chem/Draw/__init__.py\u001b[0m in \u001b[0;36m_moltoimg\u001b[0;34m(mol, sz, highlights, legend, returnPNG, drawOptions, **kwargs)\u001b[0m\n\u001b[1;32m    443\u001b[0m     \u001b[0mbondHighlights\u001b[0m \u001b[0;34m=\u001b[0m \u001b[0mkwargs\u001b[0m\u001b[0;34m.\u001b[0m\u001b[0mget\u001b[0m\u001b[0;34m(\u001b[0m\u001b[0;34m'highlightBonds'\u001b[0m\u001b[0;34m,\u001b[0m \u001b[0;32mNone\u001b[0m\u001b[0;34m)\u001b[0m\u001b[0;34m\u001b[0m\u001b[0;34m\u001b[0m\u001b[0m\n\u001b[1;32m    444\u001b[0m     d2d.DrawMolecule(mc, legend=legend or \"\", highlightAtoms=highlights or [],\n\u001b[0;32m--> 445\u001b[0;31m                      highlightBonds=bondHighlights or [])\n\u001b[0m\u001b[1;32m    446\u001b[0m     \u001b[0md2d\u001b[0m\u001b[0;34m.\u001b[0m\u001b[0mFinishDrawing\u001b[0m\u001b[0;34m(\u001b[0m\u001b[0;34m)\u001b[0m\u001b[0;34m\u001b[0m\u001b[0;34m\u001b[0m\u001b[0m\n\u001b[1;32m    447\u001b[0m     \u001b[0;32mif\u001b[0m \u001b[0mreturnPNG\u001b[0m\u001b[0;34m:\u001b[0m\u001b[0;34m\u001b[0m\u001b[0;34m\u001b[0m\u001b[0m\n",
      "\u001b[0;31mAtomKekulizeException\u001b[0m: non-ring atom 1 marked aromatic"
     ]
    }
   ],
   "source": [
    "Chem.Draw.MolsToImage(mols, legends=None)"
   ]
  },
  {
   "cell_type": "code",
   "execution_count": 28,
   "id": "objective-federal",
   "metadata": {},
   "outputs": [
    {
     "data": {
      "text/plain": [
       "['[#6]=&!@[#6]-[#6]#[#7]',\n",
       " '[#6]=&!@[#6]-[#16](=[#8])=[#8]',\n",
       " '[#6]=&!@[#6&!H0]-&!@[#6](=[#8])-&!@[#7]',\n",
       " '[H]C([H])([#6])[F,Cl,Br,I]',\n",
       " '[#6]1-[#8]-[#6]-1',\n",
       " '[#6]-[#7]=[#6]=[#8]',\n",
       " '[#6&!H0]=[#8]',\n",
       " '[#6](=&!@[#7&!H0])-&!@[#6,#7,#8,#16]',\n",
       " '[#6]1-[#7]-[#6]-1',\n",
       " '[#6]~&!@[#7]~&!@[#7]~&!@[#6]',\n",
       " '[#7]=&!@[#7]',\n",
       " '[H][#6]-1=[#6]([H])-[#6]=[#6](-*)-[#8]-1',\n",
       " '[H][#6]-1=[#6]([H])-[#6]=[#6](-*)-[#16]-1',\n",
       " '[#17,#35,#53]-c(:*):[!#1!#6]:*',\n",
       " '[H][#7]([H])-[#6]-1=[#6]-[#6]=[#6]-[#6]=[#6]-1',\n",
       " '[#16]~[#16]',\n",
       " '[#7]~&!@[#7]~&!@[#7]',\n",
       " '[#7]-&!@[#6&!H0&!H1]-&!@[#7]',\n",
       " '[#6&!H0](-&!@[#8])-&!@[#8]',\n",
       " '[#35].[#35].[#35]',\n",
       " '[#17].[#17].[#17].[#17]',\n",
       " '[#9].[#9].[#9].[#9].[#9].[#9].[#9]']"
      ]
     },
     "execution_count": 28,
     "metadata": {},
     "output_type": "execute_result"
    }
   ],
   "source": [
    "mcf_list"
   ]
  },
  {
   "cell_type": "code",
   "execution_count": 38,
   "id": "biological-zoning",
   "metadata": {},
   "outputs": [
    {
     "data": {
      "image/png": "[encoded data removed]",
      "text/plain": [
       "<rdkit.Chem.rdchem.Mol at 0x7f6b33d8edf0>"
      ]
     },
     "execution_count": 38,
     "metadata": {},
     "output_type": "execute_result"
    }
   ],
   "source": [
    "pattern = \"[#6](=&!@[#7&!H0])-&!@[#6,#7,#8,#16]\"\n",
    "mol = Chem.MolFromSmarts(pattern)\n",
    "mol"
   ]
  },
  {
   "cell_type": "code",
   "execution_count": null,
   "id": "naked-basis",
   "metadata": {},
   "outputs": [],
   "source": []
  }
 ],
 "metadata": {
  "kernelspec": {
   "display_name": "Python 3",
   "language": "python",
   "name": "python3"
  },
  "language_info": {
   "codemirror_mode": {
    "name": "ipython",
    "version": 3
   },
   "file_extension": ".py",
   "mimetype": "text/x-python",
   "name": "python",
   "nbconvert_exporter": "python",
   "pygments_lexer": "ipython3",
   "version": "3.7.10"
  }
 },
 "nbformat": 4,
 "nbformat_minor": 5
}
