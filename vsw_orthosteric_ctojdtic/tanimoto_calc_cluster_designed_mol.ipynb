{
 "cells": [
  {
   "cell_type": "code",
   "execution_count": 1,
   "id": "unusual-crowd",
   "metadata": {},
   "outputs": [],
   "source": [
    "import numpy as np\n",
    "import pandas as pd"
   ]
  },
  {
   "cell_type": "code",
   "execution_count": 2,
   "id": "flexible-secondary",
   "metadata": {},
   "outputs": [],
   "source": [
    "from rdkit import Chem\n",
    "from rdkit import DataStructs\n",
    "from rdkit.Chem import AllChem\n",
    "from rdkit.Chem import Draw\n",
    "from rdkit.Chem.Draw import rdMolDraw2D"
   ]
  },
  {
   "cell_type": "code",
   "execution_count": 3,
   "id": "seven-vegetation",
   "metadata": {},
   "outputs": [],
   "source": [
    "import matplotlib.pyplot as plt\n",
    "from scipy.cluster import hierarchy as hier\n",
    "from scipy.spatial import distance as ssd"
   ]
  },
  {
   "cell_type": "code",
   "execution_count": 4,
   "id": "individual-mention",
   "metadata": {},
   "outputs": [
    {
     "data": {
      "text/html": [
       "<div>\n",
       "<style scoped>\n",
       "    .dataframe tbody tr th:only-of-type {\n",
       "        vertical-align: middle;\n",
       "    }\n",
       "\n",
       "    .dataframe tbody tr th {\n",
       "        vertical-align: top;\n",
       "    }\n",
       "\n",
       "    .dataframe thead th {\n",
       "        text-align: right;\n",
       "    }\n",
       "</style>\n",
       "<table border=\"1\" class=\"dataframe\">\n",
       "  <thead>\n",
       "    <tr style=\"text-align: right;\">\n",
       "      <th></th>\n",
       "      <th>Smiles</th>\n",
       "      <th>Name</th>\n",
       "    </tr>\n",
       "  </thead>\n",
       "  <tbody>\n",
       "    <tr>\n",
       "      <th>0</th>\n",
       "      <td>c1cc[nH+]c(c12)NC([O-])=CC(=N2)c3ccccc3</td>\n",
       "      <td>ZINC000015828584</td>\n",
       "    </tr>\n",
       "    <tr>\n",
       "      <th>1</th>\n",
       "      <td>FCc1cc[nH+]c(c12)NC([O-])=CC(=N2)c3ccc(C)cc3</td>\n",
       "      <td>ZINC00001</td>\n",
       "    </tr>\n",
       "    <tr>\n",
       "      <th>2</th>\n",
       "      <td>COc1ccc(cc1OC)C[N@H+](CCC[NH3+])CC[C@@]2(c3ccc...</td>\n",
       "      <td>ZINC000015162196</td>\n",
       "    </tr>\n",
       "    <tr>\n",
       "      <th>3</th>\n",
       "      <td>n1ccccc1CCC(=O)N(CCC[NH+](C)C)C[C@H]2CC[N@@H+]...</td>\n",
       "      <td>ZINC000012308844</td>\n",
       "    </tr>\n",
       "    <tr>\n",
       "      <th>4</th>\n",
       "      <td>n1ccccc1CCC(=O)N(CCC[NH+](C)C)C[C@H]2CC[N@@H+]...</td>\n",
       "      <td>ZINC00002</td>\n",
       "    </tr>\n",
       "    <tr>\n",
       "      <th>5</th>\n",
       "      <td>C[NH2+]CCC[NH2+]Cc1ccc(c(c1)OC)OCc2ccc(Cl)cc2</td>\n",
       "      <td>ZINC000008377044</td>\n",
       "    </tr>\n",
       "    <tr>\n",
       "      <th>6</th>\n",
       "      <td>C[NH2+]C[C@H](C(=O)CC)C[NH2+]Cc1ccc(c(c1)OC)OC...</td>\n",
       "      <td>ZINC000003</td>\n",
       "    </tr>\n",
       "    <tr>\n",
       "      <th>7</th>\n",
       "      <td>COc1ccc(cc1)CC[N@@H+]2CCC[C@@H](C2)C[N@H+](C)C...</td>\n",
       "      <td>ZINC000011878175</td>\n",
       "    </tr>\n",
       "    <tr>\n",
       "      <th>8</th>\n",
       "      <td>COc1ccc(cc1)CC[N@@H+]2[C@@H](COCN)CC[C@@H](C2)...</td>\n",
       "      <td>ZINC00004</td>\n",
       "    </tr>\n",
       "    <tr>\n",
       "      <th>9</th>\n",
       "      <td>C[NH+](C)CCC[NH2+]Cc(cc1OC)ccc1OCc2ccc(F)cc2</td>\n",
       "      <td>ZINC000008373857</td>\n",
       "    </tr>\n",
       "  </tbody>\n",
       "</table>\n",
       "</div>"
      ],
      "text/plain": [
       "                                              Smiles              Name\n",
       "0            c1cc[nH+]c(c12)NC([O-])=CC(=N2)c3ccccc3  ZINC000015828584\n",
       "1       FCc1cc[nH+]c(c12)NC([O-])=CC(=N2)c3ccc(C)cc3         ZINC00001\n",
       "2  COc1ccc(cc1OC)C[N@H+](CCC[NH3+])CC[C@@]2(c3ccc...  ZINC000015162196\n",
       "3  n1ccccc1CCC(=O)N(CCC[NH+](C)C)C[C@H]2CC[N@@H+]...  ZINC000012308844\n",
       "4  n1ccccc1CCC(=O)N(CCC[NH+](C)C)C[C@H]2CC[N@@H+]...         ZINC00002\n",
       "5      C[NH2+]CCC[NH2+]Cc1ccc(c(c1)OC)OCc2ccc(Cl)cc2  ZINC000008377044\n",
       "6  C[NH2+]C[C@H](C(=O)CC)C[NH2+]Cc1ccc(c(c1)OC)OC...        ZINC000003\n",
       "7  COc1ccc(cc1)CC[N@@H+]2CCC[C@@H](C2)C[N@H+](C)C...  ZINC000011878175\n",
       "8  COc1ccc(cc1)CC[N@@H+]2[C@@H](COCN)CC[C@@H](C2)...         ZINC00004\n",
       "9       C[NH+](C)CCC[NH2+]Cc(cc1OC)ccc1OCc2ccc(F)cc2  ZINC000008373857"
      ]
     },
     "execution_count": 4,
     "metadata": {},
     "output_type": "execute_result"
    }
   ],
   "source": [
    "df = pd.read_csv(\"designed_molecules.smi\", sep=\" \", names=[\"Smiles\", \"Name\"])\n",
    "df"
   ]
  },
  {
   "cell_type": "code",
   "execution_count": 5,
   "id": "sharing-artist",
   "metadata": {},
   "outputs": [
    {
     "data": {
      "text/plain": [
       "['c1cc[nH+]c(c12)NC([O-])=CC(=N2)c3ccccc3',\n",
       " 'FCc1cc[nH+]c(c12)NC([O-])=CC(=N2)c3ccc(C)cc3',\n",
       " 'COc1ccc(cc1OC)C[N@H+](CCC[NH3+])CC[C@@]2(c3ccccc3)C[C@@H](C)[N@H+](C)C[C@@H]2C',\n",
       " 'n1ccccc1CCC(=O)N(CCC[NH+](C)C)C[C@H]2CC[N@@H+](CC2)C(C3)Cc(c34)cccc4',\n",
       " 'n1ccccc1CCC(=O)N(CCC[NH+](C)C)C[C@H]2CC[N@@H+](CC2)[C@@H](C3)Cc(c34)c(ccc4)NCCC',\n",
       " 'C[NH2+]CCC[NH2+]Cc1ccc(c(c1)OC)OCc2ccc(Cl)cc2',\n",
       " 'C[NH2+]C[C@H](C(=O)CC)C[NH2+]Cc1ccc(c(c1)OC)OCc2ccc(Cl)cc2',\n",
       " 'COc1ccc(cc1)CC[N@@H+]2CCC[C@@H](C2)C[N@H+](C)Cc3cccc(c3)-n4cccn4',\n",
       " 'COc1ccc(cc1)CC[N@@H+]2[C@@H](COCN)CC[C@@H](C2)C[N@H+](C)Cc3cccc(c3)-n4cccn4',\n",
       " 'C[NH+](C)CCC[NH2+]Cc(cc1OC)ccc1OCc2ccc(F)cc2']"
      ]
     },
     "execution_count": 5,
     "metadata": {},
     "output_type": "execute_result"
    }
   ],
   "source": [
    "smiles_list = df[\"Smiles\"].tolist()\n",
    "smiles_list"
   ]
  },
  {
   "cell_type": "code",
   "execution_count": 6,
   "id": "twenty-invitation",
   "metadata": {},
   "outputs": [
    {
     "data": {
      "text/plain": [
       "['ZINC000015828584',\n",
       " 'ZINC00001',\n",
       " 'ZINC000015162196',\n",
       " 'ZINC000012308844',\n",
       " 'ZINC00002',\n",
       " 'ZINC000008377044',\n",
       " 'ZINC000003',\n",
       " 'ZINC000011878175',\n",
       " 'ZINC00004',\n",
       " 'ZINC000008373857']"
      ]
     },
     "execution_count": 6,
     "metadata": {},
     "output_type": "execute_result"
    }
   ],
   "source": [
    "names_list = df[\"Name\"].tolist()\n",
    "names_list"
   ]
  },
  {
   "cell_type": "code",
   "execution_count": 7,
   "id": "damaged-budapest",
   "metadata": {},
   "outputs": [],
   "source": [
    "mol_list = []\n",
    "fp_list = []\n",
    "for i, j in zip(names_list, smiles_list):\n",
    "    mol = Chem.MolFromSmiles(j)\n",
    "    fps = Chem.RDKFingerprint(mol)\n",
    "    mol_list.append(mol)\n",
    "    fp_list.append(fps)"
   ]
  },
  {
   "cell_type": "code",
   "execution_count": 8,
   "id": "willing-novelty",
   "metadata": {},
   "outputs": [
    {
     "data": {
      "text/plain": [
       "10"
      ]
     },
     "execution_count": 8,
     "metadata": {},
     "output_type": "execute_result"
    }
   ],
   "source": [
    "num_of_mol = len(fp_list)\n",
    "num_of_mol"
   ]
  },
  {
   "cell_type": "code",
   "execution_count": 10,
   "id": "dirty-oregon",
   "metadata": {},
   "outputs": [
    {
     "data": {
      "text/plain": [
       "array([[6.92652849e-310, 4.64623331e-310, 4.64623331e-310,\n",
       "        4.64623331e-310, 2.37151510e-322, 2.37151510e-322,\n",
       "        4.64623331e-310, 1.69759663e-313, 5.09278990e-313,\n",
       "        4.64610978e-310],\n",
       "       [4.64623330e-310, 4.27366784e-321, 4.64623330e-310,\n",
       "        6.92652849e-310, 1.58101007e-322, 2.37151510e-322,\n",
       "        4.64623331e-310, 4.64623331e-310, 4.64623331e-310,\n",
       "        4.64623331e-310],\n",
       "       [3.95252517e-322, 2.37151510e-322, 4.64623331e-310,\n",
       "        1.69759663e-313, 5.09278990e-313, 4.64610978e-310,\n",
       "        1.10670705e-321, 3.64126381e-321, 4.64623330e-310,\n",
       "        6.92652849e-310],\n",
       "       [4.64623331e-310, 4.64623331e-310, 4.64623331e-310,\n",
       "        1.63041663e-322, 4.64623331e-310, 4.64623331e-310,\n",
       "        3.95252517e-322, 2.37151510e-322, 4.64623331e-310,\n",
       "        4.64623331e-310],\n",
       "       [4.64623331e-310, 4.64623331e-310, 6.32404027e-322,\n",
       "        2.37151510e-322, 4.64623331e-310, 1.69759663e-313,\n",
       "        2.12199579e-313, 5.43472210e-323, 4.64623330e-310,\n",
       "        2.77170827e-321],\n",
       "       [4.64623330e-310, 6.92652849e-310, 4.64623331e-310,\n",
       "        4.64623331e-310, 2.37151510e-322, 2.37151510e-322,\n",
       "        4.64623331e-310, 4.64623331e-310, 4.64623331e-310,\n",
       "        4.64623331e-310],\n",
       "       [4.64623331e-310, 2.42092166e-322, 4.64623330e-310,\n",
       "        6.92652849e-310, 4.64623331e-310, 4.64623331e-310,\n",
       "        7.11454530e-322, 2.37151510e-322, 4.64623331e-310,\n",
       "        4.64623331e-310],\n",
       "       [4.64623331e-310, 4.64623331e-310, 9.48606040e-322,\n",
       "        2.37151510e-322, 4.64623331e-310, 4.64623331e-310,\n",
       "        4.64623331e-310, 4.64623331e-310, 4.64623331e-310,\n",
       "        3.21142670e-322],\n",
       "       [4.64623330e-310, 4.64623331e-310, 3.18299369e-313,\n",
       "        1.63041663e-322, 4.64623330e-310, 6.92652849e-310,\n",
       "        1.50195956e-321, 2.37151510e-322, 4.64623331e-310,\n",
       "        4.64623331e-310],\n",
       "       [4.64623331e-310, 4.64623331e-310, 1.73911107e-321,\n",
       "        2.37151510e-322, 4.64623331e-310, 1.90979621e-313,\n",
       "        3.18299369e-313, 4.64610978e-310, 2.37151510e-322,\n",
       "        7.95445690e-322]])"
      ]
     },
     "execution_count": 10,
     "metadata": {},
     "output_type": "execute_result"
    }
   ],
   "source": [
    "hmap = np.empty(shape=(num_of_mol, num_of_mol))\n",
    "hmap"
   ]
  },
  {
   "cell_type": "code",
   "execution_count": 11,
   "id": "enabling-submission",
   "metadata": {},
   "outputs": [
    {
     "data": {
      "text/plain": [
       "array([[1.        , 0.80749747, 0.25396825, 0.24932493, 0.2905297 ,\n",
       "        0.18780252, 0.20664207, 0.22569738, 0.24980237, 0.18983701],\n",
       "       [0.80749747, 1.        , 0.27238525, 0.26645265, 0.32889874,\n",
       "        0.19175778, 0.21590909, 0.24148372, 0.26953405, 0.19349458],\n",
       "       [0.25396825, 0.27238525, 1.        , 0.33919338, 0.34070796,\n",
       "        0.42283563, 0.4516129 , 0.39609053, 0.43490839, 0.4278607 ],\n",
       "       [0.24932493, 0.26645265, 0.33919338, 1.        , 0.72872996,\n",
       "        0.19415205, 0.23681257, 0.34341253, 0.34803922, 0.19791667],\n",
       "       [0.2905297 , 0.32889874, 0.34070796, 0.72872996, 1.        ,\n",
       "        0.19672131, 0.23666978, 0.32728921, 0.34372367, 0.20441459],\n",
       "       [0.18780252, 0.19175778, 0.42283563, 0.19415205, 0.19672131,\n",
       "        1.        , 0.84148728, 0.29545455, 0.27253669, 0.82845188],\n",
       "       [0.20664207, 0.21590909, 0.4516129 , 0.23681257, 0.23666978,\n",
       "        0.84148728, 1.        , 0.35034803, 0.32277835, 0.70840787],\n",
       "       [0.22569738, 0.24148372, 0.39609053, 0.34341253, 0.32728921,\n",
       "        0.29545455, 0.35034803, 1.        , 0.83290816, 0.30750894],\n",
       "       [0.24980237, 0.26953405, 0.43490839, 0.34803922, 0.34372367,\n",
       "        0.27253669, 0.32277835, 0.83290816, 1.        , 0.28317659],\n",
       "       [0.18983701, 0.19349458, 0.4278607 , 0.19791667, 0.20441459,\n",
       "        0.82845188, 0.70840787, 0.30750894, 0.28317659, 1.        ]])"
      ]
     },
     "execution_count": 11,
     "metadata": {},
     "output_type": "execute_result"
    }
   ],
   "source": [
    "for m,fpsi in enumerate(fp_list):\n",
    "    for n,fpsj in enumerate(fp_list):\n",
    "        tc = DataStructs.TanimotoSimilarity(fpsj, fpsi)\n",
    "        hmap[m, n] = tc\n",
    "hmap"
   ]
  },
  {
   "cell_type": "code",
   "execution_count": 12,
   "id": "direct-there",
   "metadata": {},
   "outputs": [
    {
     "data": {
      "text/plain": [
       "array([[0.        , 0.19250253, 0.74603175, 0.75067507, 0.7094703 ,\n",
       "        0.81219748, 0.79335793, 0.77430262, 0.75019763, 0.81016299],\n",
       "       [0.19250253, 0.        , 0.72761475, 0.73354735, 0.67110126,\n",
       "        0.80824222, 0.78409091, 0.75851628, 0.73046595, 0.80650542],\n",
       "       [0.74603175, 0.72761475, 0.        , 0.66080662, 0.65929204,\n",
       "        0.57716437, 0.5483871 , 0.60390947, 0.56509161, 0.5721393 ],\n",
       "       [0.75067507, 0.73354735, 0.66080662, 0.        , 0.27127004,\n",
       "        0.80584795, 0.76318743, 0.65658747, 0.65196078, 0.80208333],\n",
       "       [0.7094703 , 0.67110126, 0.65929204, 0.27127004, 0.        ,\n",
       "        0.80327869, 0.76333022, 0.67271079, 0.65627633, 0.79558541],\n",
       "       [0.81219748, 0.80824222, 0.57716437, 0.80584795, 0.80327869,\n",
       "        0.        , 0.15851272, 0.70454545, 0.72746331, 0.17154812],\n",
       "       [0.79335793, 0.78409091, 0.5483871 , 0.76318743, 0.76333022,\n",
       "        0.15851272, 0.        , 0.64965197, 0.67722165, 0.29159213],\n",
       "       [0.77430262, 0.75851628, 0.60390947, 0.65658747, 0.67271079,\n",
       "        0.70454545, 0.64965197, 0.        , 0.16709184, 0.69249106],\n",
       "       [0.75019763, 0.73046595, 0.56509161, 0.65196078, 0.65627633,\n",
       "        0.72746331, 0.67722165, 0.16709184, 0.        , 0.71682341],\n",
       "       [0.81016299, 0.80650542, 0.5721393 , 0.80208333, 0.79558541,\n",
       "        0.17154812, 0.29159213, 0.69249106, 0.71682341, 0.        ]])"
      ]
     },
     "execution_count": 12,
     "metadata": {},
     "output_type": "execute_result"
    }
   ],
   "source": [
    "hmap1 = 1-hmap\n",
    "hmap1"
   ]
  },
  {
   "cell_type": "code",
   "execution_count": 13,
   "id": "juvenile-arthur",
   "metadata": {},
   "outputs": [
    {
     "data": {
      "text/plain": [
       "array([0.19250253, 0.74603175, 0.75067507, 0.7094703 , 0.81219748,\n",
       "       0.79335793, 0.77430262, 0.75019763, 0.81016299, 0.72761475,\n",
       "       0.73354735, 0.67110126, 0.80824222, 0.78409091, 0.75851628,\n",
       "       0.73046595, 0.80650542, 0.66080662, 0.65929204, 0.57716437,\n",
       "       0.5483871 , 0.60390947, 0.56509161, 0.5721393 , 0.27127004,\n",
       "       0.80584795, 0.76318743, 0.65658747, 0.65196078, 0.80208333,\n",
       "       0.80327869, 0.76333022, 0.67271079, 0.65627633, 0.79558541,\n",
       "       0.15851272, 0.70454545, 0.72746331, 0.17154812, 0.64965197,\n",
       "       0.67722165, 0.29159213, 0.16709184, 0.69249106, 0.71682341])"
      ]
     },
     "execution_count": 13,
     "metadata": {},
     "output_type": "execute_result"
    }
   ],
   "source": [
    "hmap1_array = ssd.squareform(hmap1)\n",
    "hmap1_array"
   ]
  },
  {
   "cell_type": "code",
   "execution_count": 14,
   "id": "fluid-atmosphere",
   "metadata": {},
   "outputs": [
    {
     "data": {
      "text/plain": [
       "array([[ 5.        ,  6.        ,  0.15851272,  2.        ],\n",
       "       [ 7.        ,  8.        ,  0.16709184,  2.        ],\n",
       "       [ 9.        , 10.        ,  0.17154812,  3.        ],\n",
       "       [ 0.        ,  1.        ,  0.19250253,  2.        ],\n",
       "       [ 3.        ,  4.        ,  0.27127004,  2.        ],\n",
       "       [ 2.        , 12.        ,  0.5483871 ,  4.        ],\n",
       "       [11.        , 15.        ,  0.56509161,  6.        ],\n",
       "       [14.        , 16.        ,  0.65196078,  8.        ],\n",
       "       [13.        , 17.        ,  0.67110126, 10.        ]])"
      ]
     },
     "execution_count": 14,
     "metadata": {},
     "output_type": "execute_result"
    }
   ],
   "source": [
    "linked = hier.linkage(hmap1_array, 'single')\n",
    "linked"
   ]
  },
  {
   "cell_type": "code",
   "execution_count": 15,
   "id": "typical-direction",
   "metadata": {},
   "outputs": [
    {
     "data": {
      "image/png": "[encoded data removed]",
      "text/plain": [
       "<Figure size 720x504 with 1 Axes>"
      ]
     },
     "metadata": {
      "needs_background": "light"
     },
     "output_type": "display_data"
    }
   ],
   "source": [
    "plt.figure(figsize=(10, 7))\n",
    "plt.title(\"1-Fp Dendograms\")\n",
    "dend = hier.dendrogram(linked)\n",
    "plt.show()"
   ]
  },
  {
   "cell_type": "code",
   "execution_count": 24,
   "id": "active-ballot",
   "metadata": {},
   "outputs": [],
   "source": [
    "def assign_clusters(linked_matrix, num_clusters):\n",
    "    assignments = hier.fcluster(linked_matrix, t=num_clusters, criterion='maxclust')\n",
    "    clusters = [[] for x in range(num_clusters)]\n",
    "    for i,cc in enumerate(assignments):\n",
    "        clusters[cc-1].append(i)\n",
    "    return clusters\n",
    "\n",
    "def tc_intercluster(clust_list, cutoff=0.7):\n",
    "    btc = False\n",
    "    for cluster in clust_list:\n",
    "        if len(cluster) > 1:\n",
    "            for i in cluster:\n",
    "                for j in cluster:\n",
    "                    tc = hmap[i, j]\n",
    "                    if tc < 0.7:\n",
    "                        btc = True\n",
    "                    \n",
    "    if btc:\n",
    "        return False\n",
    "    else:\n",
    "        return True"
   ]
  },
  {
   "cell_type": "code",
   "execution_count": 25,
   "id": "secret-revolution",
   "metadata": {},
   "outputs": [
    {
     "name": "stdout",
     "output_type": "stream",
     "text": [
      "The final number of clusters is 5\n"
     ]
    }
   ],
   "source": [
    "nclusters = 2\n",
    "final_nclusters = False\n",
    "while final_nclusters == False:\n",
    "    clusters = assign_clusters(linked, nclusters)\n",
    "    final_nclusters = tc_intercluster(clusters, cutoff=0.7)\n",
    "    if final_nclusters == False:\n",
    "        nclusters += 1\n",
    "print(f'The final number of clusters is {nclusters}')\n"
   ]
  },
  {
   "cell_type": "code",
   "execution_count": 27,
   "id": "democratic-penalty",
   "metadata": {},
   "outputs": [
    {
     "data": {
      "text/plain": [
       "array([1, 1, 5, 2, 2, 4, 4, 3, 3, 4], dtype=int32)"
      ]
     },
     "execution_count": 27,
     "metadata": {},
     "output_type": "execute_result"
    }
   ],
   "source": [
    "assignments = hier.fcluster(linked, t=5, criterion='maxclust')\n",
    "assignments"
   ]
  },
  {
   "cell_type": "code",
   "execution_count": 29,
   "id": "intended-opening",
   "metadata": {},
   "outputs": [
    {
     "data": {
      "text/plain": [
       "array([0, 0, 4, 1, 1, 3, 3, 2, 2, 3], dtype=int32)"
      ]
     },
     "execution_count": 29,
     "metadata": {},
     "output_type": "execute_result"
    }
   ],
   "source": [
    "assignments1 = assignments - 1\n",
    "assignments1"
   ]
  },
  {
   "cell_type": "code",
   "execution_count": 21,
   "id": "answering-oasis",
   "metadata": {},
   "outputs": [
    {
     "data": {
      "text/plain": [
       "[[0, 1], [3, 4], [7, 8], [5, 6, 9], [2]]"
      ]
     },
     "execution_count": 21,
     "metadata": {},
     "output_type": "execute_result"
    }
   ],
   "source": [
    "clusters = assign_clusters(linked, 5)\n",
    "clusters"
   ]
  },
  {
   "cell_type": "code",
   "execution_count": 30,
   "id": "exposed-egyptian",
   "metadata": {},
   "outputs": [],
   "source": [
    "from sklearn.metrics import silhouette_score"
   ]
  },
  {
   "cell_type": "code",
   "execution_count": 31,
   "id": "running-telling",
   "metadata": {},
   "outputs": [
    {
     "data": {
      "text/plain": [
       "0.5962721315117546"
      ]
     },
     "execution_count": 31,
     "metadata": {},
     "output_type": "execute_result"
    }
   ],
   "source": [
    "sil_score = silhouette_score(hmap1, labels=assignments, metric='precomputed')\n",
    "sil_score"
   ]
  },
  {
   "cell_type": "code",
   "execution_count": null,
   "id": "romantic-greek",
   "metadata": {},
   "outputs": [],
   "source": []
  }
 ],
 "metadata": {
  "kernelspec": {
   "display_name": "Python 3",
   "language": "python",
   "name": "python3"
  },
  "language_info": {
   "codemirror_mode": {
    "name": "ipython",
    "version": 3
   },
   "file_extension": ".py",
   "mimetype": "text/x-python",
   "name": "python",
   "nbconvert_exporter": "python",
   "pygments_lexer": "ipython3",
   "version": "3.7.10"
  }
 },
 "nbformat": 4,
 "nbformat_minor": 5
}
